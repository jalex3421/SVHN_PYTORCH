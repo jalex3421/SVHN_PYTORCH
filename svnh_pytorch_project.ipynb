{
  "nbformat": 4,
  "nbformat_minor": 0,
  "metadata": {
    "colab": {
      "provenance": []
    },
    "kernelspec": {
      "name": "python3",
      "display_name": "Python 3"
    },
    "language_info": {
      "name": "python"
    },
    "widgets": {
      "application/vnd.jupyter.widget-state+json": {
        "48b43518bca14544bb62611b4ae78062": {
          "model_module": "@jupyter-widgets/controls",
          "model_name": "HBoxModel",
          "model_module_version": "1.5.0",
          "state": {
            "_dom_classes": [],
            "_model_module": "@jupyter-widgets/controls",
            "_model_module_version": "1.5.0",
            "_model_name": "HBoxModel",
            "_view_count": null,
            "_view_module": "@jupyter-widgets/controls",
            "_view_module_version": "1.5.0",
            "_view_name": "HBoxView",
            "box_style": "",
            "children": [
              "IPY_MODEL_0d895d10d94748eabb8c2762eee005e6",
              "IPY_MODEL_9020933cd0d8480c8cc43fd0c80c3e14",
              "IPY_MODEL_fa93bb1173814aa988eee808e20a567d"
            ],
            "layout": "IPY_MODEL_292ab2b9f8234c3eb0da65dded5719ef"
          }
        },
        "0d895d10d94748eabb8c2762eee005e6": {
          "model_module": "@jupyter-widgets/controls",
          "model_name": "HTMLModel",
          "model_module_version": "1.5.0",
          "state": {
            "_dom_classes": [],
            "_model_module": "@jupyter-widgets/controls",
            "_model_module_version": "1.5.0",
            "_model_name": "HTMLModel",
            "_view_count": null,
            "_view_module": "@jupyter-widgets/controls",
            "_view_module_version": "1.5.0",
            "_view_name": "HTMLView",
            "description": "",
            "description_tooltip": null,
            "layout": "IPY_MODEL_5929b8d3e1364048a22b8d5f8bae8bc1",
            "placeholder": "​",
            "style": "IPY_MODEL_b9a593d3dac8413ebe13f310da49f65c",
            "value": "100%"
          }
        },
        "9020933cd0d8480c8cc43fd0c80c3e14": {
          "model_module": "@jupyter-widgets/controls",
          "model_name": "FloatProgressModel",
          "model_module_version": "1.5.0",
          "state": {
            "_dom_classes": [],
            "_model_module": "@jupyter-widgets/controls",
            "_model_module_version": "1.5.0",
            "_model_name": "FloatProgressModel",
            "_view_count": null,
            "_view_module": "@jupyter-widgets/controls",
            "_view_module_version": "1.5.0",
            "_view_name": "ProgressView",
            "bar_style": "success",
            "description": "",
            "description_tooltip": null,
            "layout": "IPY_MODEL_1313bd6837f64f82b981ccf5f942d3f0",
            "max": 3,
            "min": 0,
            "orientation": "horizontal",
            "style": "IPY_MODEL_dfc1292d77ac4ae58328568e0df372c8",
            "value": 3
          }
        },
        "fa93bb1173814aa988eee808e20a567d": {
          "model_module": "@jupyter-widgets/controls",
          "model_name": "HTMLModel",
          "model_module_version": "1.5.0",
          "state": {
            "_dom_classes": [],
            "_model_module": "@jupyter-widgets/controls",
            "_model_module_version": "1.5.0",
            "_model_name": "HTMLModel",
            "_view_count": null,
            "_view_module": "@jupyter-widgets/controls",
            "_view_module_version": "1.5.0",
            "_view_name": "HTMLView",
            "description": "",
            "description_tooltip": null,
            "layout": "IPY_MODEL_00073969d37a456c96f005231f861e18",
            "placeholder": "​",
            "style": "IPY_MODEL_15eabed2eeed421cb6fe6a762f0e010e",
            "value": " 3/3 [01:13&lt;00:00, 23.61s/it]"
          }
        },
        "292ab2b9f8234c3eb0da65dded5719ef": {
          "model_module": "@jupyter-widgets/base",
          "model_name": "LayoutModel",
          "model_module_version": "1.2.0",
          "state": {
            "_model_module": "@jupyter-widgets/base",
            "_model_module_version": "1.2.0",
            "_model_name": "LayoutModel",
            "_view_count": null,
            "_view_module": "@jupyter-widgets/base",
            "_view_module_version": "1.2.0",
            "_view_name": "LayoutView",
            "align_content": null,
            "align_items": null,
            "align_self": null,
            "border": null,
            "bottom": null,
            "display": null,
            "flex": null,
            "flex_flow": null,
            "grid_area": null,
            "grid_auto_columns": null,
            "grid_auto_flow": null,
            "grid_auto_rows": null,
            "grid_column": null,
            "grid_gap": null,
            "grid_row": null,
            "grid_template_areas": null,
            "grid_template_columns": null,
            "grid_template_rows": null,
            "height": null,
            "justify_content": null,
            "justify_items": null,
            "left": null,
            "margin": null,
            "max_height": null,
            "max_width": null,
            "min_height": null,
            "min_width": null,
            "object_fit": null,
            "object_position": null,
            "order": null,
            "overflow": null,
            "overflow_x": null,
            "overflow_y": null,
            "padding": null,
            "right": null,
            "top": null,
            "visibility": null,
            "width": null
          }
        },
        "5929b8d3e1364048a22b8d5f8bae8bc1": {
          "model_module": "@jupyter-widgets/base",
          "model_name": "LayoutModel",
          "model_module_version": "1.2.0",
          "state": {
            "_model_module": "@jupyter-widgets/base",
            "_model_module_version": "1.2.0",
            "_model_name": "LayoutModel",
            "_view_count": null,
            "_view_module": "@jupyter-widgets/base",
            "_view_module_version": "1.2.0",
            "_view_name": "LayoutView",
            "align_content": null,
            "align_items": null,
            "align_self": null,
            "border": null,
            "bottom": null,
            "display": null,
            "flex": null,
            "flex_flow": null,
            "grid_area": null,
            "grid_auto_columns": null,
            "grid_auto_flow": null,
            "grid_auto_rows": null,
            "grid_column": null,
            "grid_gap": null,
            "grid_row": null,
            "grid_template_areas": null,
            "grid_template_columns": null,
            "grid_template_rows": null,
            "height": null,
            "justify_content": null,
            "justify_items": null,
            "left": null,
            "margin": null,
            "max_height": null,
            "max_width": null,
            "min_height": null,
            "min_width": null,
            "object_fit": null,
            "object_position": null,
            "order": null,
            "overflow": null,
            "overflow_x": null,
            "overflow_y": null,
            "padding": null,
            "right": null,
            "top": null,
            "visibility": null,
            "width": null
          }
        },
        "b9a593d3dac8413ebe13f310da49f65c": {
          "model_module": "@jupyter-widgets/controls",
          "model_name": "DescriptionStyleModel",
          "model_module_version": "1.5.0",
          "state": {
            "_model_module": "@jupyter-widgets/controls",
            "_model_module_version": "1.5.0",
            "_model_name": "DescriptionStyleModel",
            "_view_count": null,
            "_view_module": "@jupyter-widgets/base",
            "_view_module_version": "1.2.0",
            "_view_name": "StyleView",
            "description_width": ""
          }
        },
        "1313bd6837f64f82b981ccf5f942d3f0": {
          "model_module": "@jupyter-widgets/base",
          "model_name": "LayoutModel",
          "model_module_version": "1.2.0",
          "state": {
            "_model_module": "@jupyter-widgets/base",
            "_model_module_version": "1.2.0",
            "_model_name": "LayoutModel",
            "_view_count": null,
            "_view_module": "@jupyter-widgets/base",
            "_view_module_version": "1.2.0",
            "_view_name": "LayoutView",
            "align_content": null,
            "align_items": null,
            "align_self": null,
            "border": null,
            "bottom": null,
            "display": null,
            "flex": null,
            "flex_flow": null,
            "grid_area": null,
            "grid_auto_columns": null,
            "grid_auto_flow": null,
            "grid_auto_rows": null,
            "grid_column": null,
            "grid_gap": null,
            "grid_row": null,
            "grid_template_areas": null,
            "grid_template_columns": null,
            "grid_template_rows": null,
            "height": null,
            "justify_content": null,
            "justify_items": null,
            "left": null,
            "margin": null,
            "max_height": null,
            "max_width": null,
            "min_height": null,
            "min_width": null,
            "object_fit": null,
            "object_position": null,
            "order": null,
            "overflow": null,
            "overflow_x": null,
            "overflow_y": null,
            "padding": null,
            "right": null,
            "top": null,
            "visibility": null,
            "width": null
          }
        },
        "dfc1292d77ac4ae58328568e0df372c8": {
          "model_module": "@jupyter-widgets/controls",
          "model_name": "ProgressStyleModel",
          "model_module_version": "1.5.0",
          "state": {
            "_model_module": "@jupyter-widgets/controls",
            "_model_module_version": "1.5.0",
            "_model_name": "ProgressStyleModel",
            "_view_count": null,
            "_view_module": "@jupyter-widgets/base",
            "_view_module_version": "1.2.0",
            "_view_name": "StyleView",
            "bar_color": null,
            "description_width": ""
          }
        },
        "00073969d37a456c96f005231f861e18": {
          "model_module": "@jupyter-widgets/base",
          "model_name": "LayoutModel",
          "model_module_version": "1.2.0",
          "state": {
            "_model_module": "@jupyter-widgets/base",
            "_model_module_version": "1.2.0",
            "_model_name": "LayoutModel",
            "_view_count": null,
            "_view_module": "@jupyter-widgets/base",
            "_view_module_version": "1.2.0",
            "_view_name": "LayoutView",
            "align_content": null,
            "align_items": null,
            "align_self": null,
            "border": null,
            "bottom": null,
            "display": null,
            "flex": null,
            "flex_flow": null,
            "grid_area": null,
            "grid_auto_columns": null,
            "grid_auto_flow": null,
            "grid_auto_rows": null,
            "grid_column": null,
            "grid_gap": null,
            "grid_row": null,
            "grid_template_areas": null,
            "grid_template_columns": null,
            "grid_template_rows": null,
            "height": null,
            "justify_content": null,
            "justify_items": null,
            "left": null,
            "margin": null,
            "max_height": null,
            "max_width": null,
            "min_height": null,
            "min_width": null,
            "object_fit": null,
            "object_position": null,
            "order": null,
            "overflow": null,
            "overflow_x": null,
            "overflow_y": null,
            "padding": null,
            "right": null,
            "top": null,
            "visibility": null,
            "width": null
          }
        },
        "15eabed2eeed421cb6fe6a762f0e010e": {
          "model_module": "@jupyter-widgets/controls",
          "model_name": "DescriptionStyleModel",
          "model_module_version": "1.5.0",
          "state": {
            "_model_module": "@jupyter-widgets/controls",
            "_model_module_version": "1.5.0",
            "_model_name": "DescriptionStyleModel",
            "_view_count": null,
            "_view_module": "@jupyter-widgets/base",
            "_view_module_version": "1.2.0",
            "_view_name": "StyleView",
            "description_width": ""
          }
        },
        "18d6d433eeb94224986d300189440e83": {
          "model_module": "@jupyter-widgets/controls",
          "model_name": "HBoxModel",
          "model_module_version": "1.5.0",
          "state": {
            "_dom_classes": [],
            "_model_module": "@jupyter-widgets/controls",
            "_model_module_version": "1.5.0",
            "_model_name": "HBoxModel",
            "_view_count": null,
            "_view_module": "@jupyter-widgets/controls",
            "_view_module_version": "1.5.0",
            "_view_name": "HBoxView",
            "box_style": "",
            "children": [
              "IPY_MODEL_6e4b3436fbe94a0f8a0f486cab668e79",
              "IPY_MODEL_b2b534cc933d44b6ac3ce70573cf0650",
              "IPY_MODEL_6d3cd75d2ed749eeaf8f27e7a7f815bd"
            ],
            "layout": "IPY_MODEL_026c8787f7994d148c27e48210e902be"
          }
        },
        "6e4b3436fbe94a0f8a0f486cab668e79": {
          "model_module": "@jupyter-widgets/controls",
          "model_name": "HTMLModel",
          "model_module_version": "1.5.0",
          "state": {
            "_dom_classes": [],
            "_model_module": "@jupyter-widgets/controls",
            "_model_module_version": "1.5.0",
            "_model_name": "HTMLModel",
            "_view_count": null,
            "_view_module": "@jupyter-widgets/controls",
            "_view_module_version": "1.5.0",
            "_view_name": "HTMLView",
            "description": "",
            "description_tooltip": null,
            "layout": "IPY_MODEL_9e78199a2563464288c47b2fb7f00a26",
            "placeholder": "​",
            "style": "IPY_MODEL_33ec4d3736424fd9ad70339152ed7dde",
            "value": "100%"
          }
        },
        "b2b534cc933d44b6ac3ce70573cf0650": {
          "model_module": "@jupyter-widgets/controls",
          "model_name": "FloatProgressModel",
          "model_module_version": "1.5.0",
          "state": {
            "_dom_classes": [],
            "_model_module": "@jupyter-widgets/controls",
            "_model_module_version": "1.5.0",
            "_model_name": "FloatProgressModel",
            "_view_count": null,
            "_view_module": "@jupyter-widgets/controls",
            "_view_module_version": "1.5.0",
            "_view_name": "ProgressView",
            "bar_style": "success",
            "description": "",
            "description_tooltip": null,
            "layout": "IPY_MODEL_79b1f3eb4e2945f9ac76aee5cc337031",
            "max": 3,
            "min": 0,
            "orientation": "horizontal",
            "style": "IPY_MODEL_b996312c6d6f4c9292b2fd5355181ba0",
            "value": 3
          }
        },
        "6d3cd75d2ed749eeaf8f27e7a7f815bd": {
          "model_module": "@jupyter-widgets/controls",
          "model_name": "HTMLModel",
          "model_module_version": "1.5.0",
          "state": {
            "_dom_classes": [],
            "_model_module": "@jupyter-widgets/controls",
            "_model_module_version": "1.5.0",
            "_model_name": "HTMLModel",
            "_view_count": null,
            "_view_module": "@jupyter-widgets/controls",
            "_view_module_version": "1.5.0",
            "_view_name": "HTMLView",
            "description": "",
            "description_tooltip": null,
            "layout": "IPY_MODEL_1c2b6dd6289e46169a16b266ccceb4e6",
            "placeholder": "​",
            "style": "IPY_MODEL_a9e5696d977e462bb3a09ef320d98456",
            "value": " 3/3 [03:21&lt;00:00, 67.19s/it]"
          }
        },
        "026c8787f7994d148c27e48210e902be": {
          "model_module": "@jupyter-widgets/base",
          "model_name": "LayoutModel",
          "model_module_version": "1.2.0",
          "state": {
            "_model_module": "@jupyter-widgets/base",
            "_model_module_version": "1.2.0",
            "_model_name": "LayoutModel",
            "_view_count": null,
            "_view_module": "@jupyter-widgets/base",
            "_view_module_version": "1.2.0",
            "_view_name": "LayoutView",
            "align_content": null,
            "align_items": null,
            "align_self": null,
            "border": null,
            "bottom": null,
            "display": null,
            "flex": null,
            "flex_flow": null,
            "grid_area": null,
            "grid_auto_columns": null,
            "grid_auto_flow": null,
            "grid_auto_rows": null,
            "grid_column": null,
            "grid_gap": null,
            "grid_row": null,
            "grid_template_areas": null,
            "grid_template_columns": null,
            "grid_template_rows": null,
            "height": null,
            "justify_content": null,
            "justify_items": null,
            "left": null,
            "margin": null,
            "max_height": null,
            "max_width": null,
            "min_height": null,
            "min_width": null,
            "object_fit": null,
            "object_position": null,
            "order": null,
            "overflow": null,
            "overflow_x": null,
            "overflow_y": null,
            "padding": null,
            "right": null,
            "top": null,
            "visibility": null,
            "width": null
          }
        },
        "9e78199a2563464288c47b2fb7f00a26": {
          "model_module": "@jupyter-widgets/base",
          "model_name": "LayoutModel",
          "model_module_version": "1.2.0",
          "state": {
            "_model_module": "@jupyter-widgets/base",
            "_model_module_version": "1.2.0",
            "_model_name": "LayoutModel",
            "_view_count": null,
            "_view_module": "@jupyter-widgets/base",
            "_view_module_version": "1.2.0",
            "_view_name": "LayoutView",
            "align_content": null,
            "align_items": null,
            "align_self": null,
            "border": null,
            "bottom": null,
            "display": null,
            "flex": null,
            "flex_flow": null,
            "grid_area": null,
            "grid_auto_columns": null,
            "grid_auto_flow": null,
            "grid_auto_rows": null,
            "grid_column": null,
            "grid_gap": null,
            "grid_row": null,
            "grid_template_areas": null,
            "grid_template_columns": null,
            "grid_template_rows": null,
            "height": null,
            "justify_content": null,
            "justify_items": null,
            "left": null,
            "margin": null,
            "max_height": null,
            "max_width": null,
            "min_height": null,
            "min_width": null,
            "object_fit": null,
            "object_position": null,
            "order": null,
            "overflow": null,
            "overflow_x": null,
            "overflow_y": null,
            "padding": null,
            "right": null,
            "top": null,
            "visibility": null,
            "width": null
          }
        },
        "33ec4d3736424fd9ad70339152ed7dde": {
          "model_module": "@jupyter-widgets/controls",
          "model_name": "DescriptionStyleModel",
          "model_module_version": "1.5.0",
          "state": {
            "_model_module": "@jupyter-widgets/controls",
            "_model_module_version": "1.5.0",
            "_model_name": "DescriptionStyleModel",
            "_view_count": null,
            "_view_module": "@jupyter-widgets/base",
            "_view_module_version": "1.2.0",
            "_view_name": "StyleView",
            "description_width": ""
          }
        },
        "79b1f3eb4e2945f9ac76aee5cc337031": {
          "model_module": "@jupyter-widgets/base",
          "model_name": "LayoutModel",
          "model_module_version": "1.2.0",
          "state": {
            "_model_module": "@jupyter-widgets/base",
            "_model_module_version": "1.2.0",
            "_model_name": "LayoutModel",
            "_view_count": null,
            "_view_module": "@jupyter-widgets/base",
            "_view_module_version": "1.2.0",
            "_view_name": "LayoutView",
            "align_content": null,
            "align_items": null,
            "align_self": null,
            "border": null,
            "bottom": null,
            "display": null,
            "flex": null,
            "flex_flow": null,
            "grid_area": null,
            "grid_auto_columns": null,
            "grid_auto_flow": null,
            "grid_auto_rows": null,
            "grid_column": null,
            "grid_gap": null,
            "grid_row": null,
            "grid_template_areas": null,
            "grid_template_columns": null,
            "grid_template_rows": null,
            "height": null,
            "justify_content": null,
            "justify_items": null,
            "left": null,
            "margin": null,
            "max_height": null,
            "max_width": null,
            "min_height": null,
            "min_width": null,
            "object_fit": null,
            "object_position": null,
            "order": null,
            "overflow": null,
            "overflow_x": null,
            "overflow_y": null,
            "padding": null,
            "right": null,
            "top": null,
            "visibility": null,
            "width": null
          }
        },
        "b996312c6d6f4c9292b2fd5355181ba0": {
          "model_module": "@jupyter-widgets/controls",
          "model_name": "ProgressStyleModel",
          "model_module_version": "1.5.0",
          "state": {
            "_model_module": "@jupyter-widgets/controls",
            "_model_module_version": "1.5.0",
            "_model_name": "ProgressStyleModel",
            "_view_count": null,
            "_view_module": "@jupyter-widgets/base",
            "_view_module_version": "1.2.0",
            "_view_name": "StyleView",
            "bar_color": null,
            "description_width": ""
          }
        },
        "1c2b6dd6289e46169a16b266ccceb4e6": {
          "model_module": "@jupyter-widgets/base",
          "model_name": "LayoutModel",
          "model_module_version": "1.2.0",
          "state": {
            "_model_module": "@jupyter-widgets/base",
            "_model_module_version": "1.2.0",
            "_model_name": "LayoutModel",
            "_view_count": null,
            "_view_module": "@jupyter-widgets/base",
            "_view_module_version": "1.2.0",
            "_view_name": "LayoutView",
            "align_content": null,
            "align_items": null,
            "align_self": null,
            "border": null,
            "bottom": null,
            "display": null,
            "flex": null,
            "flex_flow": null,
            "grid_area": null,
            "grid_auto_columns": null,
            "grid_auto_flow": null,
            "grid_auto_rows": null,
            "grid_column": null,
            "grid_gap": null,
            "grid_row": null,
            "grid_template_areas": null,
            "grid_template_columns": null,
            "grid_template_rows": null,
            "height": null,
            "justify_content": null,
            "justify_items": null,
            "left": null,
            "margin": null,
            "max_height": null,
            "max_width": null,
            "min_height": null,
            "min_width": null,
            "object_fit": null,
            "object_position": null,
            "order": null,
            "overflow": null,
            "overflow_x": null,
            "overflow_y": null,
            "padding": null,
            "right": null,
            "top": null,
            "visibility": null,
            "width": null
          }
        },
        "a9e5696d977e462bb3a09ef320d98456": {
          "model_module": "@jupyter-widgets/controls",
          "model_name": "DescriptionStyleModel",
          "model_module_version": "1.5.0",
          "state": {
            "_model_module": "@jupyter-widgets/controls",
            "_model_module_version": "1.5.0",
            "_model_name": "DescriptionStyleModel",
            "_view_count": null,
            "_view_module": "@jupyter-widgets/base",
            "_view_module_version": "1.2.0",
            "_view_name": "StyleView",
            "description_width": ""
          }
        },
        "59d0b797a66f4626b2c6d05d92d8d675": {
          "model_module": "@jupyter-widgets/controls",
          "model_name": "HBoxModel",
          "model_module_version": "1.5.0",
          "state": {
            "_dom_classes": [],
            "_model_module": "@jupyter-widgets/controls",
            "_model_module_version": "1.5.0",
            "_model_name": "HBoxModel",
            "_view_count": null,
            "_view_module": "@jupyter-widgets/controls",
            "_view_module_version": "1.5.0",
            "_view_name": "HBoxView",
            "box_style": "",
            "children": [
              "IPY_MODEL_3d172d9c3945447caaaf17d1ed463608",
              "IPY_MODEL_6239b49129ca47208abcd58def885e2c",
              "IPY_MODEL_d75be94c06a9425c8fb121508396f1c6"
            ],
            "layout": "IPY_MODEL_1d482f464ace493e89ba8f8acf574adc"
          }
        },
        "3d172d9c3945447caaaf17d1ed463608": {
          "model_module": "@jupyter-widgets/controls",
          "model_name": "HTMLModel",
          "model_module_version": "1.5.0",
          "state": {
            "_dom_classes": [],
            "_model_module": "@jupyter-widgets/controls",
            "_model_module_version": "1.5.0",
            "_model_name": "HTMLModel",
            "_view_count": null,
            "_view_module": "@jupyter-widgets/controls",
            "_view_module_version": "1.5.0",
            "_view_name": "HTMLView",
            "description": "",
            "description_tooltip": null,
            "layout": "IPY_MODEL_3de41263f5c545e1a9b639bebb044876",
            "placeholder": "​",
            "style": "IPY_MODEL_0dc50928160548058dd729933873b265",
            "value": "100%"
          }
        },
        "6239b49129ca47208abcd58def885e2c": {
          "model_module": "@jupyter-widgets/controls",
          "model_name": "FloatProgressModel",
          "model_module_version": "1.5.0",
          "state": {
            "_dom_classes": [],
            "_model_module": "@jupyter-widgets/controls",
            "_model_module_version": "1.5.0",
            "_model_name": "FloatProgressModel",
            "_view_count": null,
            "_view_module": "@jupyter-widgets/controls",
            "_view_module_version": "1.5.0",
            "_view_name": "ProgressView",
            "bar_style": "success",
            "description": "",
            "description_tooltip": null,
            "layout": "IPY_MODEL_f73078a3d0c3455e9d7f41a50e548e54",
            "max": 3,
            "min": 0,
            "orientation": "horizontal",
            "style": "IPY_MODEL_485ac8de6bdb4db39bfbd467f51811f2",
            "value": 3
          }
        },
        "d75be94c06a9425c8fb121508396f1c6": {
          "model_module": "@jupyter-widgets/controls",
          "model_name": "HTMLModel",
          "model_module_version": "1.5.0",
          "state": {
            "_dom_classes": [],
            "_model_module": "@jupyter-widgets/controls",
            "_model_module_version": "1.5.0",
            "_model_name": "HTMLModel",
            "_view_count": null,
            "_view_module": "@jupyter-widgets/controls",
            "_view_module_version": "1.5.0",
            "_view_name": "HTMLView",
            "description": "",
            "description_tooltip": null,
            "layout": "IPY_MODEL_89c17072205e422b9595df31421064f4",
            "placeholder": "​",
            "style": "IPY_MODEL_96438bdc8b8b4a0098f818470f6460c0",
            "value": " 3/3 [04:45&lt;00:00, 94.97s/it]"
          }
        },
        "1d482f464ace493e89ba8f8acf574adc": {
          "model_module": "@jupyter-widgets/base",
          "model_name": "LayoutModel",
          "model_module_version": "1.2.0",
          "state": {
            "_model_module": "@jupyter-widgets/base",
            "_model_module_version": "1.2.0",
            "_model_name": "LayoutModel",
            "_view_count": null,
            "_view_module": "@jupyter-widgets/base",
            "_view_module_version": "1.2.0",
            "_view_name": "LayoutView",
            "align_content": null,
            "align_items": null,
            "align_self": null,
            "border": null,
            "bottom": null,
            "display": null,
            "flex": null,
            "flex_flow": null,
            "grid_area": null,
            "grid_auto_columns": null,
            "grid_auto_flow": null,
            "grid_auto_rows": null,
            "grid_column": null,
            "grid_gap": null,
            "grid_row": null,
            "grid_template_areas": null,
            "grid_template_columns": null,
            "grid_template_rows": null,
            "height": null,
            "justify_content": null,
            "justify_items": null,
            "left": null,
            "margin": null,
            "max_height": null,
            "max_width": null,
            "min_height": null,
            "min_width": null,
            "object_fit": null,
            "object_position": null,
            "order": null,
            "overflow": null,
            "overflow_x": null,
            "overflow_y": null,
            "padding": null,
            "right": null,
            "top": null,
            "visibility": null,
            "width": null
          }
        },
        "3de41263f5c545e1a9b639bebb044876": {
          "model_module": "@jupyter-widgets/base",
          "model_name": "LayoutModel",
          "model_module_version": "1.2.0",
          "state": {
            "_model_module": "@jupyter-widgets/base",
            "_model_module_version": "1.2.0",
            "_model_name": "LayoutModel",
            "_view_count": null,
            "_view_module": "@jupyter-widgets/base",
            "_view_module_version": "1.2.0",
            "_view_name": "LayoutView",
            "align_content": null,
            "align_items": null,
            "align_self": null,
            "border": null,
            "bottom": null,
            "display": null,
            "flex": null,
            "flex_flow": null,
            "grid_area": null,
            "grid_auto_columns": null,
            "grid_auto_flow": null,
            "grid_auto_rows": null,
            "grid_column": null,
            "grid_gap": null,
            "grid_row": null,
            "grid_template_areas": null,
            "grid_template_columns": null,
            "grid_template_rows": null,
            "height": null,
            "justify_content": null,
            "justify_items": null,
            "left": null,
            "margin": null,
            "max_height": null,
            "max_width": null,
            "min_height": null,
            "min_width": null,
            "object_fit": null,
            "object_position": null,
            "order": null,
            "overflow": null,
            "overflow_x": null,
            "overflow_y": null,
            "padding": null,
            "right": null,
            "top": null,
            "visibility": null,
            "width": null
          }
        },
        "0dc50928160548058dd729933873b265": {
          "model_module": "@jupyter-widgets/controls",
          "model_name": "DescriptionStyleModel",
          "model_module_version": "1.5.0",
          "state": {
            "_model_module": "@jupyter-widgets/controls",
            "_model_module_version": "1.5.0",
            "_model_name": "DescriptionStyleModel",
            "_view_count": null,
            "_view_module": "@jupyter-widgets/base",
            "_view_module_version": "1.2.0",
            "_view_name": "StyleView",
            "description_width": ""
          }
        },
        "f73078a3d0c3455e9d7f41a50e548e54": {
          "model_module": "@jupyter-widgets/base",
          "model_name": "LayoutModel",
          "model_module_version": "1.2.0",
          "state": {
            "_model_module": "@jupyter-widgets/base",
            "_model_module_version": "1.2.0",
            "_model_name": "LayoutModel",
            "_view_count": null,
            "_view_module": "@jupyter-widgets/base",
            "_view_module_version": "1.2.0",
            "_view_name": "LayoutView",
            "align_content": null,
            "align_items": null,
            "align_self": null,
            "border": null,
            "bottom": null,
            "display": null,
            "flex": null,
            "flex_flow": null,
            "grid_area": null,
            "grid_auto_columns": null,
            "grid_auto_flow": null,
            "grid_auto_rows": null,
            "grid_column": null,
            "grid_gap": null,
            "grid_row": null,
            "grid_template_areas": null,
            "grid_template_columns": null,
            "grid_template_rows": null,
            "height": null,
            "justify_content": null,
            "justify_items": null,
            "left": null,
            "margin": null,
            "max_height": null,
            "max_width": null,
            "min_height": null,
            "min_width": null,
            "object_fit": null,
            "object_position": null,
            "order": null,
            "overflow": null,
            "overflow_x": null,
            "overflow_y": null,
            "padding": null,
            "right": null,
            "top": null,
            "visibility": null,
            "width": null
          }
        },
        "485ac8de6bdb4db39bfbd467f51811f2": {
          "model_module": "@jupyter-widgets/controls",
          "model_name": "ProgressStyleModel",
          "model_module_version": "1.5.0",
          "state": {
            "_model_module": "@jupyter-widgets/controls",
            "_model_module_version": "1.5.0",
            "_model_name": "ProgressStyleModel",
            "_view_count": null,
            "_view_module": "@jupyter-widgets/base",
            "_view_module_version": "1.2.0",
            "_view_name": "StyleView",
            "bar_color": null,
            "description_width": ""
          }
        },
        "89c17072205e422b9595df31421064f4": {
          "model_module": "@jupyter-widgets/base",
          "model_name": "LayoutModel",
          "model_module_version": "1.2.0",
          "state": {
            "_model_module": "@jupyter-widgets/base",
            "_model_module_version": "1.2.0",
            "_model_name": "LayoutModel",
            "_view_count": null,
            "_view_module": "@jupyter-widgets/base",
            "_view_module_version": "1.2.0",
            "_view_name": "LayoutView",
            "align_content": null,
            "align_items": null,
            "align_self": null,
            "border": null,
            "bottom": null,
            "display": null,
            "flex": null,
            "flex_flow": null,
            "grid_area": null,
            "grid_auto_columns": null,
            "grid_auto_flow": null,
            "grid_auto_rows": null,
            "grid_column": null,
            "grid_gap": null,
            "grid_row": null,
            "grid_template_areas": null,
            "grid_template_columns": null,
            "grid_template_rows": null,
            "height": null,
            "justify_content": null,
            "justify_items": null,
            "left": null,
            "margin": null,
            "max_height": null,
            "max_width": null,
            "min_height": null,
            "min_width": null,
            "object_fit": null,
            "object_position": null,
            "order": null,
            "overflow": null,
            "overflow_x": null,
            "overflow_y": null,
            "padding": null,
            "right": null,
            "top": null,
            "visibility": null,
            "width": null
          }
        },
        "96438bdc8b8b4a0098f818470f6460c0": {
          "model_module": "@jupyter-widgets/controls",
          "model_name": "DescriptionStyleModel",
          "model_module_version": "1.5.0",
          "state": {
            "_model_module": "@jupyter-widgets/controls",
            "_model_module_version": "1.5.0",
            "_model_name": "DescriptionStyleModel",
            "_view_count": null,
            "_view_module": "@jupyter-widgets/base",
            "_view_module_version": "1.2.0",
            "_view_name": "StyleView",
            "description_width": ""
          }
        }
      }
    }
  },
  "cells": [
    {
      "cell_type": "markdown",
      "source": [
        "# **Classification problem with Pytorch [DEMO]**\n",
        "\n",
        "Author: Alejandro Meza Tudela\n",
        "\n",
        "The goal of this project is to solve a classification problem from start to finish using PyTorch. To achieve this, I will demonstrate a basic workflow that can be easily adapted for other projects.\n",
        "\n",
        "The steps we will follow are:\n",
        "\n",
        "- Import a dataset to work with.\n",
        "- Load the data properly.\n",
        "- Create or import AI models.\n",
        "- Build functions to train the model.\n",
        "- Compare the obtained results.\n",
        "- Save the trained models.\n",
        "- Import a custom image and generate a prediction.\n",
        "\n"
      ],
      "metadata": {
        "id": "OSIEe1rftwur"
      }
    },
    {
      "cell_type": "markdown",
      "source": [
        "## 1. Import dataset"
      ],
      "metadata": {
        "id": "7ymzHD16ud3C"
      }
    },
    {
      "cell_type": "code",
      "source": [
        "import torch\n",
        "from torch import nn\n",
        "import numpy as np\n",
        "import pandas as pd\n",
        "\n",
        "#import torchvision\n",
        "import torchvision\n",
        "import torchvision.datasets as datasets #to get a DS to work with\n",
        "import torchvision.transforms as transforms\n",
        "from torchvision.transforms import ToTensor #convert a PIL image or numpy.Arrat to tensor --> to use in our model\n",
        "\n",
        "#import matplotlib for visualization\n",
        "import matplotlib.pyplot as plt\n",
        "\n",
        "#check versions\n",
        "print(torch.__version__)\n",
        "print(torchvision.__version__)"
      ],
      "metadata": {
        "colab": {
          "base_uri": "https://localhost:8080/"
        },
        "id": "k7UkbKHMt4ek",
        "outputId": "da1f91ea-0168-4427-d0c3-b356dbd8b521"
      },
      "execution_count": 1,
      "outputs": [
        {
          "output_type": "stream",
          "name": "stdout",
          "text": [
            "2.5.1+cu121\n",
            "0.20.1+cu121\n"
          ]
        }
      ]
    },
    {
      "cell_type": "markdown",
      "source": [
        "For this notebook, we are going to use the dataset SVHN.\n",
        "\n",
        "SVHN is a real-world image dataset for developing machine learning and object recognition algorithms with minimal requirement on data preprocessing and formatting.\n",
        "\n",
        "The goal from SVHN is to recognize digits and numbers in natural scene images. SVHN is obtained from house numbers in Google Street View images.\n",
        "\n",
        "**Overview:**\n",
        "- 10 classes, 1 for each digit. Digit '1' has label 1, '9' has label 9 and '0' has label 10.\n",
        "- 73257 digits for training, 26032 digits for testing, and 531131 additional, somewhat less difficult samples, to use as extra training data\n"
      ],
      "metadata": {
        "id": "5JGx8-FeXFyi"
      }
    },
    {
      "cell_type": "code",
      "source": [
        "train_data = datasets.SVHN(\n",
        "    root=\"data\",\n",
        "    split=\"train\",\n",
        "    download=True,\n",
        "    transform=ToTensor()\n",
        ")\n",
        "test_data = datasets.SVHN(\n",
        "    root=\"data\",\n",
        "    split=\"test\",\n",
        "    download=True,\n",
        "    transform=ToTensor()\n",
        ")"
      ],
      "metadata": {
        "colab": {
          "base_uri": "https://localhost:8080/"
        },
        "id": "LXv2avExuVlO",
        "outputId": "3ebc881d-43f9-4526-b871-40f44354519a"
      },
      "execution_count": 2,
      "outputs": [
        {
          "output_type": "stream",
          "name": "stdout",
          "text": [
            "Downloading http://ufldl.stanford.edu/housenumbers/train_32x32.mat to data/train_32x32.mat\n"
          ]
        },
        {
          "output_type": "stream",
          "name": "stderr",
          "text": [
            "100%|██████████| 182M/182M [00:43<00:00, 4.14MB/s]\n"
          ]
        },
        {
          "output_type": "stream",
          "name": "stdout",
          "text": [
            "Downloading http://ufldl.stanford.edu/housenumbers/test_32x32.mat to data/test_32x32.mat\n"
          ]
        },
        {
          "output_type": "stream",
          "name": "stderr",
          "text": [
            "100%|██████████| 64.3M/64.3M [00:12<00:00, 5.06MB/s]\n"
          ]
        }
      ]
    },
    {
      "cell_type": "code",
      "source": [
        "print(f'len(train_data): {len(train_data)}')\n",
        "print(f'len(test_data): {len(test_data)}')"
      ],
      "metadata": {
        "colab": {
          "base_uri": "https://localhost:8080/"
        },
        "id": "XkLYPnucuiU5",
        "outputId": "0972c806-cc91-491d-8dee-b23c6e83fa30"
      },
      "execution_count": 3,
      "outputs": [
        {
          "output_type": "stream",
          "name": "stdout",
          "text": [
            "len(train_data): 73257\n",
            "len(test_data): 26032\n"
          ]
        }
      ]
    },
    {
      "cell_type": "code",
      "source": [
        "#see the first sample\n",
        "image, label = train_data[0]\n",
        "image.shape, label"
      ],
      "metadata": {
        "colab": {
          "base_uri": "https://localhost:8080/"
        },
        "id": "ZBGl0JGxuvu4",
        "outputId": "14b97a21-16e4-4cac-8957-be7147b99131"
      },
      "execution_count": 4,
      "outputs": [
        {
          "output_type": "execute_result",
          "data": {
            "text/plain": [
              "(torch.Size([3, 32, 32]), 1)"
            ]
          },
          "metadata": {},
          "execution_count": 4
        }
      ]
    },
    {
      "cell_type": "code",
      "source": [
        "#explore the different classes that are availables in the dataset\n",
        "classes_labels = np.unique(train_data.labels)\n",
        "classes_labels"
      ],
      "metadata": {
        "colab": {
          "base_uri": "https://localhost:8080/"
        },
        "id": "fbTaRRufu2z4",
        "outputId": "e1ab0009-cd4d-476f-e3ac-ecbc08e3ae96"
      },
      "execution_count": 5,
      "outputs": [
        {
          "output_type": "execute_result",
          "data": {
            "text/plain": [
              "array([0, 1, 2, 3, 4, 5, 6, 7, 8, 9])"
            ]
          },
          "metadata": {},
          "execution_count": 5
        }
      ]
    },
    {
      "cell_type": "markdown",
      "source": [
        "So, we have images with the following charasterisics:\n",
        "- 3 channels: RGB\n",
        "- Dimensions of 32x32"
      ],
      "metadata": {
        "id": "I7R_bI9BvRaC"
      }
    },
    {
      "cell_type": "markdown",
      "source": [
        "## 2. Visualize our data"
      ],
      "metadata": {
        "id": "8DKF0almvfAi"
      }
    },
    {
      "cell_type": "markdown",
      "source": [
        "One important step in ML/DL projects is to understand the nature of our data. So a good step to achieve this, is to... visualize our data!"
      ],
      "metadata": {
        "id": "N0_2C-qDbZVS"
      }
    },
    {
      "cell_type": "code",
      "source": [
        "import matplotlib.pyplot as plt\n",
        "\n",
        "image,label = train_data[0]\n",
        "print(type(image),type(label))\n",
        "print(f\"Image shape: {image.shape}, Label: {label}\")\n",
        "plt.title(label)\n",
        "plt.imshow(image.permute(1,2,0))\n",
        "plt.show()"
      ],
      "metadata": {
        "colab": {
          "base_uri": "https://localhost:8080/",
          "height": 488
        },
        "id": "iqheFqk2vhsN",
        "outputId": "e95ef6b5-d575-4e7a-df59-e82260ef8374"
      },
      "execution_count": 6,
      "outputs": [
        {
          "output_type": "stream",
          "name": "stdout",
          "text": [
            "<class 'torch.Tensor'> <class 'int'>\n",
            "Image shape: torch.Size([3, 32, 32]), Label: 1\n"
          ]
        },
        {
          "output_type": "display_data",
          "data": {
            "text/plain": [
              "<Figure size 640x480 with 1 Axes>"
            ],
            "image/png": "[encoded data removed]"
          },
          "metadata": {}
        }
      ]
    },
    {
      "cell_type": "code",
      "source": [
        "fig = plt.figure(figsize=(9,9))\n",
        "rows, cols = 4,4\n",
        "for i in range(1, rows*cols+1):\n",
        "    random_idx = torch.randint(0, len(train_data), size=[1]).item()\n",
        "    image, label = train_data[random_idx]\n",
        "    fig.add_subplot(rows, cols, i)\n",
        "    plt.imshow(image.permute(1,2,0))\n",
        "    plt.title(label, fontsize=14)\n",
        "    plt.axis(False)"
      ],
      "metadata": {
        "colab": {
          "base_uri": "https://localhost:8080/",
          "height": 753
        },
        "id": "V-g-UIc1vt2E",
        "outputId": "f5bed492-c36c-4192-c2a4-fc6108e11aa3"
      },
      "execution_count": 7,
      "outputs": [
        {
          "output_type": "display_data",
          "data": {
            "text/plain": [
              "<Figure size 900x900 with 16 Axes>"
            ],
            "image/png": "[encoded data removed]"
          },
          "metadata": {}
        }
      ]
    },
    {
      "cell_type": "markdown",
      "source": [
        "## Setup agnostic code\n",
        "\n",
        "We will add some code to determine which device will be used to execute our code. It could be a GPU or the default CPU. For this notebook, I recommend using the GPU to achieve faster computation."
      ],
      "metadata": {
        "id": "epFvH_PfxcVZ"
      }
    },
    {
      "cell_type": "code",
      "source": [
        "#set up device-agnositc code\n",
        "device = \"cuda\" if torch.cuda.is_available() else \"cpu\"\n",
        "device"
      ],
      "metadata": {
        "colab": {
          "base_uri": "https://localhost:8080/",
          "height": 36
        },
        "id": "6udatA8xxfYA",
        "outputId": "dde30cdc-0112-4e4a-c6a8-6fe2f4783d12"
      },
      "execution_count": 8,
      "outputs": [
        {
          "output_type": "execute_result",
          "data": {
            "text/plain": [
              "'cuda'"
            ],
            "application/vnd.google.colaboratory.intrinsic+json": {
              "type": "string"
            }
          },
          "metadata": {},
          "execution_count": 8
        }
      ]
    },
    {
      "cell_type": "code",
      "source": [
        "!nvidia-smi"
      ],
      "metadata": {
        "colab": {
          "base_uri": "https://localhost:8080/"
        },
        "id": "M9DvMiqixhdx",
        "outputId": "8fdab5af-227f-430e-8203-d1ec5610ad13"
      },
      "execution_count": 9,
      "outputs": [
        {
          "output_type": "stream",
          "name": "stdout",
          "text": [
            "Sat Nov 23 02:37:24 2024       \n",
            "+---------------------------------------------------------------------------------------+\n",
            "| NVIDIA-SMI 535.104.05             Driver Version: 535.104.05   CUDA Version: 12.2     |\n",
            "|-----------------------------------------+----------------------+----------------------+\n",
            "| GPU  Name                 Persistence-M | Bus-Id        Disp.A | Volatile Uncorr. ECC |\n",
            "| Fan  Temp   Perf          Pwr:Usage/Cap |         Memory-Usage | GPU-Util  Compute M. |\n",
            "|                                         |                      |               MIG M. |\n",
            "|=========================================+======================+======================|\n",
            "|   0  Tesla T4                       Off | 00000000:00:04.0 Off |                    0 |\n",
            "| N/A   51C    P8               9W /  70W |      3MiB / 15360MiB |      0%      Default |\n",
            "|                                         |                      |                  N/A |\n",
            "+-----------------------------------------+----------------------+----------------------+\n",
            "                                                                                         \n",
            "+---------------------------------------------------------------------------------------+\n",
            "| Processes:                                                                            |\n",
            "|  GPU   GI   CI        PID   Type   Process name                            GPU Memory |\n",
            "|        ID   ID                                                             Usage      |\n",
            "|=======================================================================================|\n",
            "|  No running processes found                                                           |\n",
            "+---------------------------------------------------------------------------------------+\n"
          ]
        }
      ]
    },
    {
      "cell_type": "markdown",
      "source": [
        "## 3. Creating dataloaders\n",
        "Dataloaders in PyTorch are responsible for efficiently managing and feeding data to the model during training or evaluation. They handle:\n",
        "\n",
        "- Batching: Splitting data into manageable chunks.\n",
        "- Shuffling: Randomizing data order for better training.\n",
        "- Data Loading: Preprocessing and loading data on-the-fly, avoiding memory overload.\n",
        "\n",
        "In short, dataloaders streamline the data pipeline, ensuring smooth and efficient model training.\n"
      ],
      "metadata": {
        "id": "CDVN9wEOv5jc"
      }
    },
    {
      "cell_type": "code",
      "source": [
        "from torch.utils.data import DataLoader"
      ],
      "metadata": {
        "id": "sd3rAaq9yW_J"
      },
      "execution_count": 10,
      "outputs": []
    },
    {
      "cell_type": "markdown",
      "source": [
        "It's important to define our batch size. So, let's give a simple definition about what's a batch size.\n",
        "\n",
        "Batch size refers to the number of samples processed together in a single forward and backward pass during model training or evaluation.\n",
        "\n",
        "- A small batch size can provide more frequent updates to the model but might be slower due to overhead.\n",
        "- A large batch size can speed up processing but requires more memory and may generalize less effectively."
      ],
      "metadata": {
        "id": "o042bKAtb_c5"
      }
    },
    {
      "cell_type": "code",
      "source": [
        "BATCH_SIZE = 32 #define our batch size\n",
        "train_dataloader = DataLoader(dataset=train_data, batch_size=BATCH_SIZE, shuffle=True,drop_last=True)\n",
        "#don't shuffle test data in order to make it easier to evaluate the model performance\n",
        "test_dataloader = DataLoader(dataset=test_data, batch_size=BATCH_SIZE, shuffle=False,drop_last=True)\n",
        "train_dataloader, test_dataloader"
      ],
      "metadata": {
        "colab": {
          "base_uri": "https://localhost:8080/"
        },
        "id": "t-i95j-6v9ol",
        "outputId": "e1cee969-9a84-468b-f038-54115cb06752"
      },
      "execution_count": 11,
      "outputs": [
        {
          "output_type": "execute_result",
          "data": {
            "text/plain": [
              "(<torch.utils.data.dataloader.DataLoader at 0x7860f36e3400>,\n",
              " <torch.utils.data.dataloader.DataLoader at 0x7860f36e2e90>)"
            ]
          },
          "metadata": {},
          "execution_count": 11
        }
      ]
    },
    {
      "cell_type": "code",
      "source": [
        "#let's what we have created\n",
        "print(f\"Dataloaders: {train_dataloader, test_dataloader}\")\n",
        "print(f\"Length of train dataloader: {len(train_dataloader)} / batches of {BATCH_SIZE}\")\n",
        "print(f\"Length of train dataloader: {len(test_dataloader)} / batches of {BATCH_SIZE}\")"
      ],
      "metadata": {
        "colab": {
          "base_uri": "https://localhost:8080/"
        },
        "id": "nIIBxHQiv_Ms",
        "outputId": "f3797301-6709-4484-dee5-43fded006f0b"
      },
      "execution_count": 12,
      "outputs": [
        {
          "output_type": "stream",
          "name": "stdout",
          "text": [
            "Dataloaders: (<torch.utils.data.dataloader.DataLoader object at 0x7860f36e3400>, <torch.utils.data.dataloader.DataLoader object at 0x7860f36e2e90>)\n",
            "Length of train dataloader: 2289 / batches of 32\n",
            "Length of train dataloader: 813 / batches of 32\n"
          ]
        }
      ]
    },
    {
      "cell_type": "code",
      "source": [
        "#let's see how to interact with a batch...\n",
        "train_features, train_labels = next(iter(train_dataloader))\n",
        "print(f\"Feature batch shape: {train_features.size()}\")\n",
        "print(f\"Labels batch shape: {train_labels.size()}\")"
      ],
      "metadata": {
        "colab": {
          "base_uri": "https://localhost:8080/"
        },
        "id": "IbvV9S-MwD-h",
        "outputId": "b8b8e536-aa9a-416e-dfaf-87157a9b4002"
      },
      "execution_count": 13,
      "outputs": [
        {
          "output_type": "stream",
          "name": "stdout",
          "text": [
            "Feature batch shape: torch.Size([32, 3, 32, 32])\n",
            "Labels batch shape: torch.Size([32])\n"
          ]
        }
      ]
    },
    {
      "cell_type": "code",
      "source": [
        "#show a sample\n",
        "torch.manual_seed(42)\n",
        "random_idx = torch.randint(0, len(train_features), size=[1]).item()\n",
        "image, label = train_features[random_idx], train_labels[random_idx]\n",
        "print(f\"Image shape: {image.shape}, Label: {label}\")\n",
        "plt.title(label.item())\n",
        "plt.imshow(image.permute(1,2,0))\n",
        "plt.axis(False)"
      ],
      "metadata": {
        "colab": {
          "base_uri": "https://localhost:8080/",
          "height": 464
        },
        "id": "BCv2GesnwEya",
        "outputId": "132026bb-c7be-4016-996a-9dc7821b8fa4"
      },
      "execution_count": 14,
      "outputs": [
        {
          "output_type": "stream",
          "name": "stdout",
          "text": [
            "Image shape: torch.Size([3, 32, 32]), Label: 1\n"
          ]
        },
        {
          "output_type": "execute_result",
          "data": {
            "text/plain": [
              "(-0.5, 31.5, 31.5, -0.5)"
            ]
          },
          "metadata": {},
          "execution_count": 14
        },
        {
          "output_type": "display_data",
          "data": {
            "text/plain": [
              "<Figure size 640x480 with 1 Axes>"
            ],
            "image/png": "[encoded data removed]"
          },
          "metadata": {}
        }
      ]
    },
    {
      "cell_type": "markdown",
      "source": [
        "## 4. Define some models to try"
      ],
      "metadata": {
        "id": "69hHdR9mwfjD"
      }
    },
    {
      "cell_type": "markdown",
      "source": [
        "It's time to define some models to try!"
      ],
      "metadata": {
        "id": "Rn7CV6BwcQqT"
      }
    },
    {
      "cell_type": "markdown",
      "source": [
        "### 4.1 TinyVGG"
      ],
      "metadata": {
        "id": "CbUXm0nUx7Zl"
      }
    },
    {
      "cell_type": "markdown",
      "source": [
        "In the first place, we are going to try to implement from scratch TinyVGG.\n",
        "\n",
        "TinyVGG is a lightweight, simplified convolutional neural network (CNN) architecture inspired by the larger VGGNet (Visual Geometry Group Network). It is commonly used for learning and experimentation purposes, particularly in educational settings or small-scale projects.\n",
        "\n",
        "You can check the CNN architecture here:\n",
        "https://poloclub.github.io/cnn-explainer/"
      ],
      "metadata": {
        "id": "_HMXEFq_cTqc"
      }
    },
    {
      "cell_type": "code",
      "source": [
        "#Create a convolutional neuronal network\n",
        "class TinyVGG(nn.Module):\n",
        "    def __init__(self,\n",
        "                 input_shape: int,\n",
        "                 hidden_units: int,\n",
        "                 output_shape: int) -> None:\n",
        "      super().__init__()\n",
        "      #a block is a group of layers\n",
        "      self.conv_block_1 = nn.Sequential(\n",
        "          #create a conv-layer\n",
        "          nn.Conv2d(in_channels=input_shape,\n",
        "                    out_channels=hidden_units,\n",
        "                    kernel_size=3,\n",
        "                    stride=1,\n",
        "                    padding=0),\n",
        "          nn.ReLU(), #layer to apply non-linearity\n",
        "          nn.Conv2d(in_channels=hidden_units,\n",
        "                    out_channels=hidden_units,\n",
        "                    kernel_size=3,\n",
        "                    stride=1,\n",
        "                    padding=0),\n",
        "          nn.ReLU(), #layer to apply non-linearity\n",
        "          nn.MaxPool2d(kernel_size=2,\n",
        "                       stride=2) #default stride value is the same as kernel size\n",
        "      )\n",
        "      self.conv_block_2 = nn.Sequential(\n",
        "          nn.Conv2d(in_channels=hidden_units,\n",
        "                    out_channels=hidden_units,\n",
        "                    kernel_size=3,\n",
        "                    stride=1,\n",
        "                    padding=0),\n",
        "          nn.ReLU(), #layer to apply non-linearity\n",
        "          nn.Conv2d(in_channels=hidden_units,\n",
        "                    out_channels=hidden_units,\n",
        "                    kernel_size=3,\n",
        "                    stride=1,\n",
        "                    padding=0),\n",
        "          nn.ReLU(), #layer to apply non-linearity\n",
        "          nn.MaxPool2d(kernel_size=2)\n",
        "      )\n",
        "      self.classifier = nn.Sequential(\n",
        "          nn.Flatten(),\n",
        "          #there is a trick to calculate this part\n",
        "          nn.Linear(in_features=hidden_units*25,  #we have to adapt this value depending the output of layer 2\n",
        "                    out_features=output_shape)\n",
        "      )\n",
        "\n",
        "    def forward(self, x):\n",
        "      x = self.conv_block_1(x)\n",
        "      #print(f'Shape of block 1: {x.shape}')\n",
        "      x = self.conv_block_2(x)\n",
        "      #print(f'Shape of block 2: {x.shape}')\n",
        "      x = self.classifier(x)\n",
        "      #print(f'Shape of classifier: {x.shape}')\n",
        "      return x\n",
        "      #return self.classifier(self.conv_block_2(self.conv_block_1(x))) --> faster method --> avoid transportation of data through memory"
      ],
      "metadata": {
        "id": "hcuyxUuDwjbd"
      },
      "execution_count": 15,
      "outputs": []
    },
    {
      "cell_type": "code",
      "source": [
        "torch.manual_seed(42)\n",
        "model_tinyvgg = TinyVGG(input_shape=3,\n",
        "                  hidden_units=10,\n",
        "                  output_shape=len(classes_labels)\n",
        "                  ).to(device)\n",
        "model_tinyvgg"
      ],
      "metadata": {
        "colab": {
          "base_uri": "https://localhost:8080/"
        },
        "id": "2TP8XVspxkiY",
        "outputId": "0eebbccd-eac2-4518-b033-75e23496ed61"
      },
      "execution_count": 16,
      "outputs": [
        {
          "output_type": "execute_result",
          "data": {
            "text/plain": [
              "TinyVGG(\n",
              "  (conv_block_1): Sequential(\n",
              "    (0): Conv2d(3, 10, kernel_size=(3, 3), stride=(1, 1))\n",
              "    (1): ReLU()\n",
              "    (2): Conv2d(10, 10, kernel_size=(3, 3), stride=(1, 1))\n",
              "    (3): ReLU()\n",
              "    (4): MaxPool2d(kernel_size=2, stride=2, padding=0, dilation=1, ceil_mode=False)\n",
              "  )\n",
              "  (conv_block_2): Sequential(\n",
              "    (0): Conv2d(10, 10, kernel_size=(3, 3), stride=(1, 1))\n",
              "    (1): ReLU()\n",
              "    (2): Conv2d(10, 10, kernel_size=(3, 3), stride=(1, 1))\n",
              "    (3): ReLU()\n",
              "    (4): MaxPool2d(kernel_size=2, stride=2, padding=0, dilation=1, ceil_mode=False)\n",
              "  )\n",
              "  (classifier): Sequential(\n",
              "    (0): Flatten(start_dim=1, end_dim=-1)\n",
              "    (1): Linear(in_features=250, out_features=10, bias=True)\n",
              "  )\n",
              ")"
            ]
          },
          "metadata": {},
          "execution_count": 16
        }
      ]
    },
    {
      "cell_type": "code",
      "source": [
        "#try a forward pass to check the neural network\n",
        "image_batch, label_batch = next(iter(train_dataloader))\n",
        "image_batch = image_batch.to(device)\n",
        "model_tinyvgg(image_batch)"
      ],
      "metadata": {
        "colab": {
          "base_uri": "https://localhost:8080/"
        },
        "id": "BKiv8P6fyBTo",
        "outputId": "89c2abd4-df7b-4785-bbdf-ab9b660ea27e"
      },
      "execution_count": 19,
      "outputs": [
        {
          "output_type": "execute_result",
          "data": {
            "text/plain": [
              "tensor([[ 0.0317, -0.0458, -0.0925,  0.0996,  0.0678, -0.0282, -0.0378,  0.0422,\n",
              "          0.0964,  0.0131],\n",
              "        [ 0.0301, -0.0460, -0.0924,  0.1005,  0.0672, -0.0289, -0.0372,  0.0406,\n",
              "          0.0975,  0.0127],\n",
              "        [ 0.0333, -0.0487, -0.0981,  0.1052,  0.0698, -0.0326, -0.0375,  0.0430,\n",
              "          0.0972,  0.0119],\n",
              "        [ 0.0294, -0.0456, -0.0911,  0.0998,  0.0676, -0.0264, -0.0374,  0.0407,\n",
              "          0.0974,  0.0122],\n",
              "        [ 0.0293, -0.0459, -0.0903,  0.0997,  0.0699, -0.0272, -0.0367,  0.0422,\n",
              "          0.0979,  0.0124],\n",
              "        [ 0.0284, -0.0456, -0.0908,  0.0988,  0.0688, -0.0271, -0.0371,  0.0413,\n",
              "          0.0970,  0.0129],\n",
              "        [ 0.0317, -0.0467, -0.0942,  0.1026,  0.0679, -0.0292, -0.0362,  0.0428,\n",
              "          0.0970,  0.0128],\n",
              "        [ 0.0347, -0.0505, -0.0953,  0.1022,  0.0679, -0.0319, -0.0353,  0.0423,\n",
              "          0.1003,  0.0122],\n",
              "        [ 0.0299, -0.0466, -0.0920,  0.0996,  0.0669, -0.0289, -0.0376,  0.0414,\n",
              "          0.0986,  0.0137],\n",
              "        [ 0.0331, -0.0471, -0.0955,  0.1030,  0.0655, -0.0300, -0.0356,  0.0415,\n",
              "          0.0971,  0.0132],\n",
              "        [ 0.0326, -0.0477, -0.0941,  0.1025,  0.0699, -0.0303, -0.0367,  0.0443,\n",
              "          0.0980,  0.0122],\n",
              "        [ 0.0368, -0.0528, -0.0981,  0.1085,  0.0684, -0.0341, -0.0358,  0.0455,\n",
              "          0.1012,  0.0110],\n",
              "        [ 0.0314, -0.0473, -0.0944,  0.1006,  0.0657, -0.0297, -0.0370,  0.0407,\n",
              "          0.0973,  0.0124],\n",
              "        [ 0.0304, -0.0451, -0.0916,  0.0999,  0.0672, -0.0280, -0.0365,  0.0411,\n",
              "          0.0968,  0.0134],\n",
              "        [ 0.0366, -0.0520, -0.0943,  0.1052,  0.0675, -0.0319, -0.0346,  0.0487,\n",
              "          0.1022,  0.0120],\n",
              "        [ 0.0319, -0.0479, -0.0944,  0.1018,  0.0697, -0.0307, -0.0368,  0.0439,\n",
              "          0.0972,  0.0125],\n",
              "        [ 0.0342, -0.0498, -0.0955,  0.1047,  0.0687, -0.0307, -0.0355,  0.0431,\n",
              "          0.0991,  0.0119],\n",
              "        [ 0.0318, -0.0472, -0.0946,  0.1023,  0.0672, -0.0298, -0.0367,  0.0424,\n",
              "          0.0970,  0.0125],\n",
              "        [ 0.0305, -0.0479, -0.0969,  0.1012,  0.0675, -0.0308, -0.0387,  0.0413,\n",
              "          0.0971,  0.0131],\n",
              "        [ 0.0337, -0.0488, -0.0948,  0.1054,  0.0705, -0.0308, -0.0366,  0.0446,\n",
              "          0.0992,  0.0107],\n",
              "        [ 0.0309, -0.0460, -0.0926,  0.1004,  0.0680, -0.0284, -0.0373,  0.0418,\n",
              "          0.0977,  0.0126],\n",
              "        [ 0.0329, -0.0488, -0.0937,  0.1043,  0.0680, -0.0306, -0.0374,  0.0426,\n",
              "          0.0996,  0.0112],\n",
              "        [ 0.0308, -0.0471, -0.0933,  0.1019,  0.0682, -0.0299, -0.0381,  0.0425,\n",
              "          0.0977,  0.0123],\n",
              "        [ 0.0308, -0.0471, -0.0936,  0.1014,  0.0678, -0.0293, -0.0370,  0.0417,\n",
              "          0.0977,  0.0134],\n",
              "        [ 0.0366, -0.0541, -0.1001,  0.1084,  0.0686, -0.0369, -0.0358,  0.0468,\n",
              "          0.1018,  0.0121],\n",
              "        [ 0.0323, -0.0474, -0.0959,  0.1026,  0.0674, -0.0297, -0.0355,  0.0431,\n",
              "          0.0968,  0.0135],\n",
              "        [ 0.0302, -0.0473, -0.0939,  0.1027,  0.0691, -0.0305, -0.0372,  0.0424,\n",
              "          0.0991,  0.0124],\n",
              "        [ 0.0290, -0.0451, -0.0909,  0.0990,  0.0681, -0.0266, -0.0371,  0.0409,\n",
              "          0.0964,  0.0125],\n",
              "        [ 0.0330, -0.0472, -0.0964,  0.1011,  0.0676, -0.0317, -0.0376,  0.0412,\n",
              "          0.0963,  0.0133],\n",
              "        [ 0.0342, -0.0504, -0.0955,  0.1017,  0.0669, -0.0292, -0.0356,  0.0441,\n",
              "          0.0974,  0.0124],\n",
              "        [ 0.0316, -0.0469, -0.0932,  0.1000,  0.0674, -0.0293, -0.0370,  0.0417,\n",
              "          0.0976,  0.0138],\n",
              "        [ 0.0353, -0.0515, -0.0964,  0.1053,  0.0645, -0.0314, -0.0349,  0.0449,\n",
              "          0.0999,  0.0120]], device='cuda:0', grad_fn=<AddmmBackward0>)"
            ]
          },
          "metadata": {},
          "execution_count": 19
        }
      ]
    },
    {
      "cell_type": "markdown",
      "source": [
        "## 4.2 Resnet18"
      ],
      "metadata": {
        "id": "K0gISfNjz6S6"
      }
    },
    {
      "cell_type": "markdown",
      "source": [
        "![Resnet18](https://www.researchgate.net/publication/366608244/figure/fig1/AS:11431281109643320@1672145338540/Structure-of-the-Resnet-18-Model.jpg)"
      ],
      "metadata": {
        "id": "tNm74MhJ2FXJ"
      }
    },
    {
      "cell_type": "markdown",
      "source": [
        "ResNet-18 is a deep convolutional neural network with 18 layers designed to address the vanishing gradient problem in very deep networks through the use of residual connections (skip connections). These connections allow the network to learn the identity function and add it to the output of each layer, making it easier to train deep networks."
      ],
      "metadata": {
        "id": "u5qrnb2r2QDi"
      }
    },
    {
      "cell_type": "code",
      "source": [
        "model_resnet18= torchvision.models.resnet18(weights=True)\n",
        "model_resnet18.conv1 = nn.Conv2d(3, 64, kernel_size=3, stride=1, padding=1)\n",
        "model_resnet18.fc = nn.Linear(model_resnet18.fc.in_features, 10)  # 10 is the number of classes in SVHN\n",
        "model_resnet18.to(device)"
      ],
      "metadata": {
        "id": "_EtCYMd-0-H3",
        "colab": {
          "base_uri": "https://localhost:8080/"
        },
        "outputId": "b2fa3ff6-361b-4dc5-c607-4f725bcf3984"
      },
      "execution_count": 23,
      "outputs": [
        {
          "output_type": "stream",
          "name": "stderr",
          "text": [
            "/usr/local/lib/python3.10/dist-packages/torchvision/models/_utils.py:223: UserWarning: Arguments other than a weight enum or `None` for 'weights' are deprecated since 0.13 and may be removed in the future. The current behavior is equivalent to passing `weights=ResNet18_Weights.IMAGENET1K_V1`. You can also use `weights=ResNet18_Weights.DEFAULT` to get the most up-to-date weights.\n",
            "  warnings.warn(msg)\n"
          ]
        },
        {
          "output_type": "execute_result",
          "data": {
            "text/plain": [
              "ResNet(\n",
              "  (conv1): Conv2d(3, 64, kernel_size=(3, 3), stride=(1, 1), padding=(1, 1))\n",
              "  (bn1): BatchNorm2d(64, eps=1e-05, momentum=0.1, affine=True, track_running_stats=True)\n",
              "  (relu): ReLU(inplace=True)\n",
              "  (maxpool): MaxPool2d(kernel_size=3, stride=2, padding=1, dilation=1, ceil_mode=False)\n",
              "  (layer1): Sequential(\n",
              "    (0): BasicBlock(\n",
              "      (conv1): Conv2d(64, 64, kernel_size=(3, 3), stride=(1, 1), padding=(1, 1), bias=False)\n",
              "      (bn1): BatchNorm2d(64, eps=1e-05, momentum=0.1, affine=True, track_running_stats=True)\n",
              "      (relu): ReLU(inplace=True)\n",
              "      (conv2): Conv2d(64, 64, kernel_size=(3, 3), stride=(1, 1), padding=(1, 1), bias=False)\n",
              "      (bn2): BatchNorm2d(64, eps=1e-05, momentum=0.1, affine=True, track_running_stats=True)\n",
              "    )\n",
              "    (1): BasicBlock(\n",
              "      (conv1): Conv2d(64, 64, kernel_size=(3, 3), stride=(1, 1), padding=(1, 1), bias=False)\n",
              "      (bn1): BatchNorm2d(64, eps=1e-05, momentum=0.1, affine=True, track_running_stats=True)\n",
              "      (relu): ReLU(inplace=True)\n",
              "      (conv2): Conv2d(64, 64, kernel_size=(3, 3), stride=(1, 1), padding=(1, 1), bias=False)\n",
              "      (bn2): BatchNorm2d(64, eps=1e-05, momentum=0.1, affine=True, track_running_stats=True)\n",
              "    )\n",
              "  )\n",
              "  (layer2): Sequential(\n",
              "    (0): BasicBlock(\n",
              "      (conv1): Conv2d(64, 128, kernel_size=(3, 3), stride=(2, 2), padding=(1, 1), bias=False)\n",
              "      (bn1): BatchNorm2d(128, eps=1e-05, momentum=0.1, affine=True, track_running_stats=True)\n",
              "      (relu): ReLU(inplace=True)\n",
              "      (conv2): Conv2d(128, 128, kernel_size=(3, 3), stride=(1, 1), padding=(1, 1), bias=False)\n",
              "      (bn2): BatchNorm2d(128, eps=1e-05, momentum=0.1, affine=True, track_running_stats=True)\n",
              "      (downsample): Sequential(\n",
              "        (0): Conv2d(64, 128, kernel_size=(1, 1), stride=(2, 2), bias=False)\n",
              "        (1): BatchNorm2d(128, eps=1e-05, momentum=0.1, affine=True, track_running_stats=True)\n",
              "      )\n",
              "    )\n",
              "    (1): BasicBlock(\n",
              "      (conv1): Conv2d(128, 128, kernel_size=(3, 3), stride=(1, 1), padding=(1, 1), bias=False)\n",
              "      (bn1): BatchNorm2d(128, eps=1e-05, momentum=0.1, affine=True, track_running_stats=True)\n",
              "      (relu): ReLU(inplace=True)\n",
              "      (conv2): Conv2d(128, 128, kernel_size=(3, 3), stride=(1, 1), padding=(1, 1), bias=False)\n",
              "      (bn2): BatchNorm2d(128, eps=1e-05, momentum=0.1, affine=True, track_running_stats=True)\n",
              "    )\n",
              "  )\n",
              "  (layer3): Sequential(\n",
              "    (0): BasicBlock(\n",
              "      (conv1): Conv2d(128, 256, kernel_size=(3, 3), stride=(2, 2), padding=(1, 1), bias=False)\n",
              "      (bn1): BatchNorm2d(256, eps=1e-05, momentum=0.1, affine=True, track_running_stats=True)\n",
              "      (relu): ReLU(inplace=True)\n",
              "      (conv2): Conv2d(256, 256, kernel_size=(3, 3), stride=(1, 1), padding=(1, 1), bias=False)\n",
              "      (bn2): BatchNorm2d(256, eps=1e-05, momentum=0.1, affine=True, track_running_stats=True)\n",
              "      (downsample): Sequential(\n",
              "        (0): Conv2d(128, 256, kernel_size=(1, 1), stride=(2, 2), bias=False)\n",
              "        (1): BatchNorm2d(256, eps=1e-05, momentum=0.1, affine=True, track_running_stats=True)\n",
              "      )\n",
              "    )\n",
              "    (1): BasicBlock(\n",
              "      (conv1): Conv2d(256, 256, kernel_size=(3, 3), stride=(1, 1), padding=(1, 1), bias=False)\n",
              "      (bn1): BatchNorm2d(256, eps=1e-05, momentum=0.1, affine=True, track_running_stats=True)\n",
              "      (relu): ReLU(inplace=True)\n",
              "      (conv2): Conv2d(256, 256, kernel_size=(3, 3), stride=(1, 1), padding=(1, 1), bias=False)\n",
              "      (bn2): BatchNorm2d(256, eps=1e-05, momentum=0.1, affine=True, track_running_stats=True)\n",
              "    )\n",
              "  )\n",
              "  (layer4): Sequential(\n",
              "    (0): BasicBlock(\n",
              "      (conv1): Conv2d(256, 512, kernel_size=(3, 3), stride=(2, 2), padding=(1, 1), bias=False)\n",
              "      (bn1): BatchNorm2d(512, eps=1e-05, momentum=0.1, affine=True, track_running_stats=True)\n",
              "      (relu): ReLU(inplace=True)\n",
              "      (conv2): Conv2d(512, 512, kernel_size=(3, 3), stride=(1, 1), padding=(1, 1), bias=False)\n",
              "      (bn2): BatchNorm2d(512, eps=1e-05, momentum=0.1, affine=True, track_running_stats=True)\n",
              "      (downsample): Sequential(\n",
              "        (0): Conv2d(256, 512, kernel_size=(1, 1), stride=(2, 2), bias=False)\n",
              "        (1): BatchNorm2d(512, eps=1e-05, momentum=0.1, affine=True, track_running_stats=True)\n",
              "      )\n",
              "    )\n",
              "    (1): BasicBlock(\n",
              "      (conv1): Conv2d(512, 512, kernel_size=(3, 3), stride=(1, 1), padding=(1, 1), bias=False)\n",
              "      (bn1): BatchNorm2d(512, eps=1e-05, momentum=0.1, affine=True, track_running_stats=True)\n",
              "      (relu): ReLU(inplace=True)\n",
              "      (conv2): Conv2d(512, 512, kernel_size=(3, 3), stride=(1, 1), padding=(1, 1), bias=False)\n",
              "      (bn2): BatchNorm2d(512, eps=1e-05, momentum=0.1, affine=True, track_running_stats=True)\n",
              "    )\n",
              "  )\n",
              "  (avgpool): AdaptiveAvgPool2d(output_size=(1, 1))\n",
              "  (fc): Linear(in_features=512, out_features=10, bias=True)\n",
              ")"
            ]
          },
          "metadata": {},
          "execution_count": 23
        }
      ]
    },
    {
      "cell_type": "code",
      "source": [
        "#try a forward pass to check the neural network\n",
        "image_batch, label_batch = next(iter(train_dataloader))\n",
        "image_batch = image_batch.to(device)\n",
        "model_resnet18(image_batch)"
      ],
      "metadata": {
        "colab": {
          "base_uri": "https://localhost:8080/"
        },
        "id": "Nh6uNpn41MUk",
        "outputId": "aa1ae1fc-88c2-43fc-ccf0-074a4208bb5a"
      },
      "execution_count": 24,
      "outputs": [
        {
          "output_type": "execute_result",
          "data": {
            "text/plain": [
              "tensor([[-3.3392e-01,  1.5530e+00, -1.6094e-02, -7.5569e-01,  1.7656e+00,\n",
              "         -1.4415e+00,  6.0057e-02,  4.0052e-01,  7.1371e-01,  1.1398e+00],\n",
              "        [ 2.4518e+00,  8.1684e-01, -6.6974e-02,  6.0641e-02,  1.5902e+00,\n",
              "          1.3067e+00, -1.7557e-01,  8.6713e-01,  2.2381e+00,  2.5817e+00],\n",
              "        [ 5.7338e-04,  6.5116e-01,  3.5792e-01, -1.0527e-01,  5.6317e-01,\n",
              "         -2.6961e-01,  7.1593e-01, -2.4859e-01,  2.9059e-01,  6.8398e-01],\n",
              "        [ 1.8630e+00,  9.9617e-01, -1.9162e-01, -9.4861e-01,  1.1416e+00,\n",
              "         -3.3185e-01,  1.8665e+00, -1.9524e-02,  7.8098e-01,  1.8376e+00],\n",
              "        [ 6.8157e-01,  6.2646e-01,  4.4944e-01, -5.6059e-01,  8.9698e-01,\n",
              "         -1.4561e-01, -7.3702e-02, -4.2636e-01,  7.0107e-01,  2.2672e-01],\n",
              "        [ 8.3426e-01,  1.6432e-01, -1.1285e+00, -2.3191e-01,  1.9950e+00,\n",
              "         -4.5757e-01, -6.2286e-01, -4.2753e-01,  1.1930e+00,  3.2921e-01],\n",
              "        [ 1.5394e-02,  1.7707e-02,  7.5290e-01, -3.2037e-01,  5.5439e-01,\n",
              "          1.3220e+00, -6.2893e-01,  9.5021e-02,  1.7273e+00,  5.4715e-01],\n",
              "        [-6.0039e-01,  1.2058e+00, -4.9859e-01, -2.1751e-01,  6.6026e-02,\n",
              "          6.3188e-01, -8.4880e-01, -2.3599e+00,  7.2919e-01,  1.2364e+00],\n",
              "        [ 1.6907e+00,  1.7446e+00,  1.0234e+00,  1.1575e+00,  1.7507e+00,\n",
              "          5.5487e-01, -1.7482e+00, -6.6222e-01, -1.6015e-01,  1.3440e+00],\n",
              "        [ 6.1595e-01,  1.1698e+00, -7.6926e-01, -1.2697e+00,  4.3264e-02,\n",
              "         -1.1101e-01,  3.3953e-01,  2.0008e-01, -7.6691e-01,  2.3583e+00],\n",
              "        [-7.3927e-01,  1.0014e+00, -7.1019e-01, -4.9863e-01,  8.8070e-02,\n",
              "         -5.7487e-01, -7.3861e-01, -7.4104e-02,  1.3334e-01, -2.3581e-01],\n",
              "        [ 1.9579e+00,  1.1233e+00, -9.2191e-01, -1.3679e-01,  1.6201e+00,\n",
              "         -1.7911e-01,  2.1084e+00, -3.3559e-01,  8.9644e-02,  2.2170e+00],\n",
              "        [ 1.6186e-01,  6.3631e-01, -5.5778e-01, -5.3061e-02,  6.6027e-01,\n",
              "         -4.2629e-02, -5.2604e-01, -5.5939e-01,  2.8061e-01,  1.0352e+00],\n",
              "        [ 3.1257e-01,  6.2401e-01, -1.1865e+00, -1.1194e+00,  3.0293e-01,\n",
              "          4.6531e-02,  9.4324e-01, -1.3585e+00,  3.8581e-01,  2.0910e+00],\n",
              "        [ 8.1135e-01,  5.9040e-01,  4.4434e-01, -5.1811e-01,  1.3331e+00,\n",
              "         -1.5818e-01, -5.9867e-01,  1.4674e-01,  4.9028e-01,  1.1261e+00],\n",
              "        [-5.8801e-01,  4.1963e-01,  5.2480e-01, -1.2600e+00,  4.4890e-01,\n",
              "         -1.5686e-01, -3.3019e-01, -9.3376e-01,  1.2880e+00,  3.3810e-01],\n",
              "        [ 3.7840e-02,  1.2184e+00,  3.1751e-01,  2.0346e-01,  1.1604e+00,\n",
              "         -1.8084e-01,  4.8230e-01, -2.4144e-01, -8.1136e-01,  6.4102e-01],\n",
              "        [ 1.2700e+00,  1.2679e+00,  2.8647e-01, -2.2634e+00,  3.1572e-01,\n",
              "          4.1098e-01,  2.1729e+00,  6.7438e-01,  1.2927e+00,  1.1480e+00],\n",
              "        [ 2.4747e-01,  2.3663e-01,  2.7576e-01, -2.0547e-01,  9.1930e-01,\n",
              "         -5.2957e-01, -5.5599e-01,  6.6568e-01,  3.6596e-01,  1.1884e+00],\n",
              "        [ 3.5290e-01,  8.7761e-01, -7.3252e-01,  7.5808e-02, -4.4437e-01,\n",
              "         -8.0462e-01,  5.1585e-01, -2.2932e+00,  4.2484e-01,  1.4008e+00],\n",
              "        [ 1.8442e-01, -4.1485e-01,  6.0145e-02,  8.2055e-01,  1.7252e+00,\n",
              "          3.1769e-01, -2.8047e-02, -8.3046e-01,  4.0840e-01,  2.4976e+00],\n",
              "        [-7.8995e-01,  9.9897e-01,  1.0732e-01,  2.0451e-01,  1.1860e+00,\n",
              "          2.8246e-02, -1.7722e-01,  2.0437e-01,  1.1417e+00,  1.5132e+00],\n",
              "        [ 9.6536e-02, -7.7877e-01, -8.2015e-01,  3.2705e-01,  1.9192e-01,\n",
              "          7.4259e-02, -1.0771e+00, -3.5733e-01,  1.2382e-02, -1.2729e-01],\n",
              "        [-2.0972e-01,  1.3470e+00, -2.7449e-01, -3.8660e-01,  1.0739e+00,\n",
              "         -6.5081e-01,  1.1721e+00,  3.3503e-01,  5.2130e-01,  1.6627e+00],\n",
              "        [ 1.6766e+00,  5.9703e-01, -7.6890e-01,  8.9339e-01,  1.4515e+00,\n",
              "          9.6810e-01,  7.0412e-01,  7.1477e-01,  3.5757e-02,  7.5229e-01],\n",
              "        [-3.0437e-01,  2.0575e+00, -8.7143e-01, -1.6016e+00,  9.9478e-01,\n",
              "         -6.6171e-01,  1.2934e-01,  9.0211e-01,  4.2954e-01,  1.4190e-01],\n",
              "        [ 9.9344e-01,  5.3970e-01,  1.4609e+00,  2.5232e-01,  8.2652e-01,\n",
              "          5.6776e-01, -8.9547e-01, -9.5776e-01,  6.4554e-01,  1.2809e+00],\n",
              "        [-8.9478e-01,  6.5933e-01,  6.4079e-01, -9.9284e-01,  2.1760e+00,\n",
              "          9.3667e-01,  6.9239e-01,  1.2624e+00,  5.1640e-01,  1.7707e-01],\n",
              "        [ 6.2393e-02,  2.3061e+00, -7.1616e-01,  1.2714e+00, -6.0515e-01,\n",
              "         -6.0885e-01,  9.5686e-01,  1.7275e-01,  1.6928e+00,  3.1417e+00],\n",
              "        [ 6.1910e-01, -1.3139e-01,  5.4621e-02,  2.2646e-01,  1.2714e+00,\n",
              "          6.5227e-02,  4.3941e-02, -2.6115e-01,  5.1192e-01,  3.6463e-01],\n",
              "        [ 8.2625e-02,  1.8185e+00, -3.2347e-02,  4.8423e-01, -6.8681e-02,\n",
              "         -4.9128e-01,  1.6681e-02, -2.9227e-01,  4.3619e-01,  3.8794e-01],\n",
              "        [ 8.7123e-02, -4.7278e-01, -9.4503e-01, -5.8063e-01,  6.8616e-01,\n",
              "          4.3223e-01, -3.4958e-03,  6.0851e-01, -3.6371e-01,  2.4693e-01]],\n",
              "       device='cuda:0', grad_fn=<AddmmBackward0>)"
            ]
          },
          "metadata": {},
          "execution_count": 24
        }
      ]
    },
    {
      "cell_type": "markdown",
      "source": [
        "### 4.3 Resnet18 (hugging face pretrained model)"
      ],
      "metadata": {
        "id": "KC2jc9VM6CaB"
      }
    },
    {
      "cell_type": "markdown",
      "source": [
        "The Hugging Face model in this context refers to a pretrained version of ResNet18, made available through the Hugging Face ecosystem. Hugging Face provides an accessible platform for sharing, downloading, and using pretrained models for a variety of machine learning tasks, including computer vision.\n",
        "\n",
        "This pretraine model, has used some parameters like:\n",
        "\n",
        "- batch_size: 128\n",
        "\n",
        "- epochs: 300\n",
        "\n",
        "- validation_frequency: 5\n",
        "\n",
        "- seed: 1\n",
        "\n",
        "- criterion: CrossEntropyLoss\n",
        "\n",
        "- criterion_kwargs: {}\n",
        "\n",
        "- optimizer: SGD\n",
        "\n",
        "- lr: 0.01\n",
        "\n",
        "- optimizer_kwargs: {'momentum': 0.9, 'weight_decay': 0.0005}\n",
        "\n",
        "- scheduler: MultiStepLR\n",
        "\n",
        "- scheduler_kwargs: {'gamma': 0.1, 'milestones': [75, 100, 150, 225]}"
      ],
      "metadata": {
        "id": "fn93nGYMctjz"
      }
    },
    {
      "cell_type": "code",
      "source": [
        "!pip install detectors"
      ],
      "metadata": {
        "colab": {
          "base_uri": "https://localhost:8080/"
        },
        "id": "NUf1lw2T6qqt",
        "outputId": "bcf93763-a4d1-4f59-ffe7-0c2636880e57"
      },
      "execution_count": 38,
      "outputs": [
        {
          "output_type": "stream",
          "name": "stdout",
          "text": [
            "Collecting detectors\n",
            "  Downloading detectors-0.1.11-py3-none-any.whl.metadata (9.3 kB)\n",
            "Requirement already satisfied: Pillow in /usr/local/lib/python3.10/dist-packages (from detectors) (11.0.0)\n",
            "Requirement already satisfied: numpy in /usr/local/lib/python3.10/dist-packages (from detectors) (1.26.4)\n",
            "Collecting optuna (from detectors)\n",
            "  Downloading optuna-4.1.0-py3-none-any.whl.metadata (16 kB)\n",
            "Requirement already satisfied: scikit-learn in /usr/local/lib/python3.10/dist-packages (from detectors) (1.5.2)\n",
            "Requirement already satisfied: scikit-image in /usr/local/lib/python3.10/dist-packages (from detectors) (0.24.0)\n",
            "Requirement already satisfied: timm>=0.8.19.dev0 in /usr/local/lib/python3.10/dist-packages (from detectors) (1.0.11)\n",
            "Requirement already satisfied: torch>=1.13.1 in /usr/local/lib/python3.10/dist-packages (from detectors) (2.5.1+cu121)\n",
            "Requirement already satisfied: torchvision in /usr/local/lib/python3.10/dist-packages (from detectors) (0.20.1+cu121)\n",
            "Requirement already satisfied: tqdm in /usr/local/lib/python3.10/dist-packages (from detectors) (4.66.6)\n",
            "Requirement already satisfied: scipy in /usr/local/lib/python3.10/dist-packages (from detectors) (1.13.1)\n",
            "Requirement already satisfied: accelerate in /usr/local/lib/python3.10/dist-packages (from detectors) (1.1.1)\n",
            "Requirement already satisfied: psutil in /usr/local/lib/python3.10/dist-packages (from detectors) (5.9.5)\n",
            "Requirement already satisfied: pandas in /usr/local/lib/python3.10/dist-packages (from detectors) (2.2.2)\n",
            "Collecting wilds (from detectors)\n",
            "  Downloading wilds-2.0.0-py3-none-any.whl.metadata (22 kB)\n",
            "Collecting faiss-cpu (from detectors)\n",
            "  Downloading faiss_cpu-1.9.0.post1-cp310-cp310-manylinux_2_17_x86_64.manylinux2014_x86_64.whl.metadata (4.4 kB)\n",
            "Requirement already satisfied: matplotlib in /usr/local/lib/python3.10/dist-packages (from detectors) (3.8.0)\n",
            "Requirement already satisfied: pyyaml in /usr/local/lib/python3.10/dist-packages (from timm>=0.8.19.dev0->detectors) (6.0.2)\n",
            "Requirement already satisfied: huggingface_hub in /usr/local/lib/python3.10/dist-packages (from timm>=0.8.19.dev0->detectors) (0.26.2)\n",
            "Requirement already satisfied: safetensors in /usr/local/lib/python3.10/dist-packages (from timm>=0.8.19.dev0->detectors) (0.4.5)\n",
            "Requirement already satisfied: filelock in /usr/local/lib/python3.10/dist-packages (from torch>=1.13.1->detectors) (3.16.1)\n",
            "Requirement already satisfied: typing-extensions>=4.8.0 in /usr/local/lib/python3.10/dist-packages (from torch>=1.13.1->detectors) (4.12.2)\n",
            "Requirement already satisfied: networkx in /usr/local/lib/python3.10/dist-packages (from torch>=1.13.1->detectors) (3.4.2)\n",
            "Requirement already satisfied: jinja2 in /usr/local/lib/python3.10/dist-packages (from torch>=1.13.1->detectors) (3.1.4)\n",
            "Requirement already satisfied: fsspec in /usr/local/lib/python3.10/dist-packages (from torch>=1.13.1->detectors) (2024.10.0)\n",
            "Requirement already satisfied: sympy==1.13.1 in /usr/local/lib/python3.10/dist-packages (from torch>=1.13.1->detectors) (1.13.1)\n",
            "Requirement already satisfied: mpmath<1.4,>=1.1.0 in /usr/local/lib/python3.10/dist-packages (from sympy==1.13.1->torch>=1.13.1->detectors) (1.3.0)\n",
            "Requirement already satisfied: packaging>=20.0 in /usr/local/lib/python3.10/dist-packages (from accelerate->detectors) (24.2)\n",
            "Requirement already satisfied: contourpy>=1.0.1 in /usr/local/lib/python3.10/dist-packages (from matplotlib->detectors) (1.3.1)\n",
            "Requirement already satisfied: cycler>=0.10 in /usr/local/lib/python3.10/dist-packages (from matplotlib->detectors) (0.12.1)\n",
            "Requirement already satisfied: fonttools>=4.22.0 in /usr/local/lib/python3.10/dist-packages (from matplotlib->detectors) (4.55.0)\n",
            "Requirement already satisfied: kiwisolver>=1.0.1 in /usr/local/lib/python3.10/dist-packages (from matplotlib->detectors) (1.4.7)\n",
            "Requirement already satisfied: pyparsing>=2.3.1 in /usr/local/lib/python3.10/dist-packages (from matplotlib->detectors) (3.2.0)\n",
            "Requirement already satisfied: python-dateutil>=2.7 in /usr/local/lib/python3.10/dist-packages (from matplotlib->detectors) (2.8.2)\n",
            "Collecting alembic>=1.5.0 (from optuna->detectors)\n",
            "  Downloading alembic-1.14.0-py3-none-any.whl.metadata (7.4 kB)\n",
            "Collecting colorlog (from optuna->detectors)\n",
            "  Downloading colorlog-6.9.0-py3-none-any.whl.metadata (10 kB)\n",
            "Requirement already satisfied: sqlalchemy>=1.4.2 in /usr/local/lib/python3.10/dist-packages (from optuna->detectors) (2.0.36)\n",
            "Requirement already satisfied: pytz>=2020.1 in /usr/local/lib/python3.10/dist-packages (from pandas->detectors) (2024.2)\n",
            "Requirement already satisfied: tzdata>=2022.7 in /usr/local/lib/python3.10/dist-packages (from pandas->detectors) (2024.2)\n",
            "Requirement already satisfied: imageio>=2.33 in /usr/local/lib/python3.10/dist-packages (from scikit-image->detectors) (2.36.0)\n",
            "Requirement already satisfied: tifffile>=2022.8.12 in /usr/local/lib/python3.10/dist-packages (from scikit-image->detectors) (2024.9.20)\n",
            "Requirement already satisfied: lazy-loader>=0.4 in /usr/local/lib/python3.10/dist-packages (from scikit-image->detectors) (0.4)\n",
            "Requirement already satisfied: joblib>=1.2.0 in /usr/local/lib/python3.10/dist-packages (from scikit-learn->detectors) (1.4.2)\n",
            "Requirement already satisfied: threadpoolctl>=3.1.0 in /usr/local/lib/python3.10/dist-packages (from scikit-learn->detectors) (3.5.0)\n",
            "Collecting ogb>=1.2.6 (from wilds->detectors)\n",
            "  Downloading ogb-1.3.6-py3-none-any.whl.metadata (6.2 kB)\n",
            "Collecting outdated>=0.2.0 (from wilds->detectors)\n",
            "  Downloading outdated-0.2.2-py2.py3-none-any.whl.metadata (4.7 kB)\n",
            "Collecting Mako (from alembic>=1.5.0->optuna->detectors)\n",
            "  Downloading Mako-1.3.6-py3-none-any.whl.metadata (2.9 kB)\n",
            "Requirement already satisfied: requests in /usr/local/lib/python3.10/dist-packages (from huggingface_hub->timm>=0.8.19.dev0->detectors) (2.32.3)\n",
            "Requirement already satisfied: six>=1.12.0 in /usr/local/lib/python3.10/dist-packages (from ogb>=1.2.6->wilds->detectors) (1.16.0)\n",
            "Requirement already satisfied: urllib3>=1.24.0 in /usr/local/lib/python3.10/dist-packages (from ogb>=1.2.6->wilds->detectors) (2.2.3)\n",
            "Requirement already satisfied: setuptools>=44 in /usr/local/lib/python3.10/dist-packages (from outdated>=0.2.0->wilds->detectors) (75.1.0)\n",
            "Collecting littleutils (from outdated>=0.2.0->wilds->detectors)\n",
            "  Downloading littleutils-0.2.4-py3-none-any.whl.metadata (679 bytes)\n",
            "Requirement already satisfied: greenlet!=0.4.17 in /usr/local/lib/python3.10/dist-packages (from sqlalchemy>=1.4.2->optuna->detectors) (3.1.1)\n",
            "Requirement already satisfied: MarkupSafe>=2.0 in /usr/local/lib/python3.10/dist-packages (from jinja2->torch>=1.13.1->detectors) (3.0.2)\n",
            "Requirement already satisfied: charset-normalizer<4,>=2 in /usr/local/lib/python3.10/dist-packages (from requests->huggingface_hub->timm>=0.8.19.dev0->detectors) (3.4.0)\n",
            "Requirement already satisfied: idna<4,>=2.5 in /usr/local/lib/python3.10/dist-packages (from requests->huggingface_hub->timm>=0.8.19.dev0->detectors) (3.10)\n",
            "Requirement already satisfied: certifi>=2017.4.17 in /usr/local/lib/python3.10/dist-packages (from requests->huggingface_hub->timm>=0.8.19.dev0->detectors) (2024.8.30)\n",
            "Downloading detectors-0.1.11-py3-none-any.whl (616 kB)\n",
            "\u001b[2K   \u001b[90m━━━━━━━━━━━━━━━━━━━━━━━━━━━━━━━━━━━━━━━━\u001b[0m \u001b[32m616.8/616.8 kB\u001b[0m \u001b[31m29.2 MB/s\u001b[0m eta \u001b[36m0:00:00\u001b[0m\n",
            "\u001b[?25hDownloading faiss_cpu-1.9.0.post1-cp310-cp310-manylinux_2_17_x86_64.manylinux2014_x86_64.whl (27.5 MB)\n",
            "\u001b[2K   \u001b[90m━━━━━━━━━━━━━━━━━━━━━━━━━━━━━━━━━━━━━━━━\u001b[0m \u001b[32m27.5/27.5 MB\u001b[0m \u001b[31m75.7 MB/s\u001b[0m eta \u001b[36m0:00:00\u001b[0m\n",
            "\u001b[?25hDownloading optuna-4.1.0-py3-none-any.whl (364 kB)\n",
            "\u001b[2K   \u001b[90m━━━━━━━━━━━━━━━━━━━━━━━━━━━━━━━━━━━━━━━━\u001b[0m \u001b[32m364.4/364.4 kB\u001b[0m \u001b[31m28.8 MB/s\u001b[0m eta \u001b[36m0:00:00\u001b[0m\n",
            "\u001b[?25hDownloading wilds-2.0.0-py3-none-any.whl (126 kB)\n",
            "\u001b[2K   \u001b[90m━━━━━━━━━━━━━━━━━━━━━━━━━━━━━━━━━━━━━━━━\u001b[0m \u001b[32m126.2/126.2 kB\u001b[0m \u001b[31m11.3 MB/s\u001b[0m eta \u001b[36m0:00:00\u001b[0m\n",
            "\u001b[?25hDownloading alembic-1.14.0-py3-none-any.whl (233 kB)\n",
            "\u001b[2K   \u001b[90m━━━━━━━━━━━━━━━━━━━━━━━━━━━━━━━━━━━━━━━━\u001b[0m \u001b[32m233.5/233.5 kB\u001b[0m \u001b[31m22.2 MB/s\u001b[0m eta \u001b[36m0:00:00\u001b[0m\n",
            "\u001b[?25hDownloading ogb-1.3.6-py3-none-any.whl (78 kB)\n",
            "\u001b[2K   \u001b[90m━━━━━━━━━━━━━━━━━━━━━━━━━━━━━━━━━━━━━━━━\u001b[0m \u001b[32m78.8/78.8 kB\u001b[0m \u001b[31m7.1 MB/s\u001b[0m eta \u001b[36m0:00:00\u001b[0m\n",
            "\u001b[?25hDownloading outdated-0.2.2-py2.py3-none-any.whl (7.5 kB)\n",
            "Downloading colorlog-6.9.0-py3-none-any.whl (11 kB)\n",
            "Downloading littleutils-0.2.4-py3-none-any.whl (8.1 kB)\n",
            "Downloading Mako-1.3.6-py3-none-any.whl (78 kB)\n",
            "\u001b[2K   \u001b[90m━━━━━━━━━━━━━━━━━━━━━━━━━━━━━━━━━━━━━━━━\u001b[0m \u001b[32m78.6/78.6 kB\u001b[0m \u001b[31m8.8 MB/s\u001b[0m eta \u001b[36m0:00:00\u001b[0m\n",
            "\u001b[?25hInstalling collected packages: Mako, littleutils, faiss-cpu, colorlog, outdated, alembic, optuna, ogb, wilds, detectors\n",
            "Successfully installed Mako-1.3.6 alembic-1.14.0 colorlog-6.9.0 detectors-0.1.11 faiss-cpu-1.9.0.post1 littleutils-0.2.4 ogb-1.3.6 optuna-4.1.0 outdated-0.2.2 wilds-2.0.0\n"
          ]
        }
      ]
    },
    {
      "cell_type": "code",
      "source": [
        "import detectors\n",
        "import timm"
      ],
      "metadata": {
        "id": "SGcv280f6HJI"
      },
      "execution_count": 39,
      "outputs": []
    },
    {
      "cell_type": "code",
      "source": [
        "model_resnet18_svh_hugging_face = timm.create_model(\"resnet18_svhn\", pretrained=True)\n",
        "model_resnet18_svh_hugging_face.to(device)"
      ],
      "metadata": {
        "colab": {
          "base_uri": "https://localhost:8080/"
        },
        "id": "w9odu3xb6xY2",
        "outputId": "b6bb48b3-e6d4-4307-a8f9-ab1a268c4335"
      },
      "execution_count": 45,
      "outputs": [
        {
          "output_type": "stream",
          "name": "stderr",
          "text": [
            "Downloading: \"https://huggingface.co/edadaltocg/resnet18_svhn/resolve/main/pytorch_model.bin\" to /root/.cache/torch/hub/checkpoints/resnet18_svhn.pth\n",
            "100%|██████████| 42.7M/42.7M [00:01<00:00, 37.2MB/s]\n"
          ]
        },
        {
          "output_type": "execute_result",
          "data": {
            "text/plain": [
              "ResNet(\n",
              "  (conv1): Conv2d(3, 64, kernel_size=(3, 3), stride=(1, 1), padding=(1, 1), bias=False)\n",
              "  (bn1): BatchNorm2d(64, eps=1e-05, momentum=0.1, affine=True, track_running_stats=True)\n",
              "  (act1): ReLU(inplace=True)\n",
              "  (maxpool): Identity()\n",
              "  (layer1): Sequential(\n",
              "    (0): BasicBlock(\n",
              "      (conv1): Conv2d(64, 64, kernel_size=(3, 3), stride=(1, 1), padding=(1, 1), bias=False)\n",
              "      (bn1): BatchNorm2d(64, eps=1e-05, momentum=0.1, affine=True, track_running_stats=True)\n",
              "      (drop_block): Identity()\n",
              "      (act1): ReLU(inplace=True)\n",
              "      (aa): Identity()\n",
              "      (conv2): Conv2d(64, 64, kernel_size=(3, 3), stride=(1, 1), padding=(1, 1), bias=False)\n",
              "      (bn2): BatchNorm2d(64, eps=1e-05, momentum=0.1, affine=True, track_running_stats=True)\n",
              "      (act2): ReLU(inplace=True)\n",
              "    )\n",
              "    (1): BasicBlock(\n",
              "      (conv1): Conv2d(64, 64, kernel_size=(3, 3), stride=(1, 1), padding=(1, 1), bias=False)\n",
              "      (bn1): BatchNorm2d(64, eps=1e-05, momentum=0.1, affine=True, track_running_stats=True)\n",
              "      (drop_block): Identity()\n",
              "      (act1): ReLU(inplace=True)\n",
              "      (aa): Identity()\n",
              "      (conv2): Conv2d(64, 64, kernel_size=(3, 3), stride=(1, 1), padding=(1, 1), bias=False)\n",
              "      (bn2): BatchNorm2d(64, eps=1e-05, momentum=0.1, affine=True, track_running_stats=True)\n",
              "      (act2): ReLU(inplace=True)\n",
              "    )\n",
              "  )\n",
              "  (layer2): Sequential(\n",
              "    (0): BasicBlock(\n",
              "      (conv1): Conv2d(64, 128, kernel_size=(3, 3), stride=(2, 2), padding=(1, 1), bias=False)\n",
              "      (bn1): BatchNorm2d(128, eps=1e-05, momentum=0.1, affine=True, track_running_stats=True)\n",
              "      (drop_block): Identity()\n",
              "      (act1): ReLU(inplace=True)\n",
              "      (aa): Identity()\n",
              "      (conv2): Conv2d(128, 128, kernel_size=(3, 3), stride=(1, 1), padding=(1, 1), bias=False)\n",
              "      (bn2): BatchNorm2d(128, eps=1e-05, momentum=0.1, affine=True, track_running_stats=True)\n",
              "      (act2): ReLU(inplace=True)\n",
              "      (downsample): Sequential(\n",
              "        (0): Conv2d(64, 128, kernel_size=(1, 1), stride=(2, 2), bias=False)\n",
              "        (1): BatchNorm2d(128, eps=1e-05, momentum=0.1, affine=True, track_running_stats=True)\n",
              "      )\n",
              "    )\n",
              "    (1): BasicBlock(\n",
              "      (conv1): Conv2d(128, 128, kernel_size=(3, 3), stride=(1, 1), padding=(1, 1), bias=False)\n",
              "      (bn1): BatchNorm2d(128, eps=1e-05, momentum=0.1, affine=True, track_running_stats=True)\n",
              "      (drop_block): Identity()\n",
              "      (act1): ReLU(inplace=True)\n",
              "      (aa): Identity()\n",
              "      (conv2): Conv2d(128, 128, kernel_size=(3, 3), stride=(1, 1), padding=(1, 1), bias=False)\n",
              "      (bn2): BatchNorm2d(128, eps=1e-05, momentum=0.1, affine=True, track_running_stats=True)\n",
              "      (act2): ReLU(inplace=True)\n",
              "    )\n",
              "  )\n",
              "  (layer3): Sequential(\n",
              "    (0): BasicBlock(\n",
              "      (conv1): Conv2d(128, 256, kernel_size=(3, 3), stride=(2, 2), padding=(1, 1), bias=False)\n",
              "      (bn1): BatchNorm2d(256, eps=1e-05, momentum=0.1, affine=True, track_running_stats=True)\n",
              "      (drop_block): Identity()\n",
              "      (act1): ReLU(inplace=True)\n",
              "      (aa): Identity()\n",
              "      (conv2): Conv2d(256, 256, kernel_size=(3, 3), stride=(1, 1), padding=(1, 1), bias=False)\n",
              "      (bn2): BatchNorm2d(256, eps=1e-05, momentum=0.1, affine=True, track_running_stats=True)\n",
              "      (act2): ReLU(inplace=True)\n",
              "      (downsample): Sequential(\n",
              "        (0): Conv2d(128, 256, kernel_size=(1, 1), stride=(2, 2), bias=False)\n",
              "        (1): BatchNorm2d(256, eps=1e-05, momentum=0.1, affine=True, track_running_stats=True)\n",
              "      )\n",
              "    )\n",
              "    (1): BasicBlock(\n",
              "      (conv1): Conv2d(256, 256, kernel_size=(3, 3), stride=(1, 1), padding=(1, 1), bias=False)\n",
              "      (bn1): BatchNorm2d(256, eps=1e-05, momentum=0.1, affine=True, track_running_stats=True)\n",
              "      (drop_block): Identity()\n",
              "      (act1): ReLU(inplace=True)\n",
              "      (aa): Identity()\n",
              "      (conv2): Conv2d(256, 256, kernel_size=(3, 3), stride=(1, 1), padding=(1, 1), bias=False)\n",
              "      (bn2): BatchNorm2d(256, eps=1e-05, momentum=0.1, affine=True, track_running_stats=True)\n",
              "      (act2): ReLU(inplace=True)\n",
              "    )\n",
              "  )\n",
              "  (layer4): Sequential(\n",
              "    (0): BasicBlock(\n",
              "      (conv1): Conv2d(256, 512, kernel_size=(3, 3), stride=(2, 2), padding=(1, 1), bias=False)\n",
              "      (bn1): BatchNorm2d(512, eps=1e-05, momentum=0.1, affine=True, track_running_stats=True)\n",
              "      (drop_block): Identity()\n",
              "      (act1): ReLU(inplace=True)\n",
              "      (aa): Identity()\n",
              "      (conv2): Conv2d(512, 512, kernel_size=(3, 3), stride=(1, 1), padding=(1, 1), bias=False)\n",
              "      (bn2): BatchNorm2d(512, eps=1e-05, momentum=0.1, affine=True, track_running_stats=True)\n",
              "      (act2): ReLU(inplace=True)\n",
              "      (downsample): Sequential(\n",
              "        (0): Conv2d(256, 512, kernel_size=(1, 1), stride=(2, 2), bias=False)\n",
              "        (1): BatchNorm2d(512, eps=1e-05, momentum=0.1, affine=True, track_running_stats=True)\n",
              "      )\n",
              "    )\n",
              "    (1): BasicBlock(\n",
              "      (conv1): Conv2d(512, 512, kernel_size=(3, 3), stride=(1, 1), padding=(1, 1), bias=False)\n",
              "      (bn1): BatchNorm2d(512, eps=1e-05, momentum=0.1, affine=True, track_running_stats=True)\n",
              "      (drop_block): Identity()\n",
              "      (act1): ReLU(inplace=True)\n",
              "      (aa): Identity()\n",
              "      (conv2): Conv2d(512, 512, kernel_size=(3, 3), stride=(1, 1), padding=(1, 1), bias=False)\n",
              "      (bn2): BatchNorm2d(512, eps=1e-05, momentum=0.1, affine=True, track_running_stats=True)\n",
              "      (act2): ReLU(inplace=True)\n",
              "    )\n",
              "  )\n",
              "  (global_pool): SelectAdaptivePool2d(pool_type=avg, flatten=Flatten(start_dim=1, end_dim=-1))\n",
              "  (fc): Linear(in_features=512, out_features=10, bias=True)\n",
              ")"
            ]
          },
          "metadata": {},
          "execution_count": 45
        }
      ]
    },
    {
      "cell_type": "markdown",
      "source": [
        "##5. Obtain information about our models"
      ],
      "metadata": {
        "id": "AqC_ZCWgyZ8H"
      }
    },
    {
      "cell_type": "markdown",
      "source": [
        "In order to obtain information about the models, we are going to use torchinfo.\n",
        "\n",
        "The torchinfo library (formerly known as torchsummary) is a utility for PyTorch that provides a detailed summary of a neural network model's architecture. It is particularly useful for debugging, understanding, and optimizing models by giving insights into their structure and resource requirements."
      ],
      "metadata": {
        "id": "GuzTQ0jodQpt"
      }
    },
    {
      "cell_type": "code",
      "source": [
        "pip install torchinfo"
      ],
      "metadata": {
        "colab": {
          "base_uri": "https://localhost:8080/"
        },
        "id": "v7MMW47OyKTI",
        "outputId": "deaa7c54-8c43-49d5-8ceb-76d0b62e59f1"
      },
      "execution_count": 25,
      "outputs": [
        {
          "output_type": "stream",
          "name": "stdout",
          "text": [
            "Collecting torchinfo\n",
            "  Downloading torchinfo-1.8.0-py3-none-any.whl.metadata (21 kB)\n",
            "Downloading torchinfo-1.8.0-py3-none-any.whl (23 kB)\n",
            "Installing collected packages: torchinfo\n",
            "Successfully installed torchinfo-1.8.0\n"
          ]
        }
      ]
    },
    {
      "cell_type": "code",
      "source": [
        "import torchinfo\n",
        "from torchinfo import summary"
      ],
      "metadata": {
        "id": "aqYp6knvyqW2"
      },
      "execution_count": 26,
      "outputs": []
    },
    {
      "cell_type": "markdown",
      "source": [
        "### 5.1 tinyvgg"
      ],
      "metadata": {
        "id": "HrrKoPcIykM0"
      }
    },
    {
      "cell_type": "code",
      "source": [
        "#this library do a forward pass agaaints the model that we have defined\n",
        "#TINYVGG\n",
        "summary(model=model_tinyvgg,\n",
        "        input_size=(32, 3, 32, 32)\n",
        "        )"
      ],
      "metadata": {
        "colab": {
          "base_uri": "https://localhost:8080/"
        },
        "id": "ybuDMLLaysno",
        "outputId": "ed744ba6-9efb-4e63-83cb-ec5028e5633e"
      },
      "execution_count": 27,
      "outputs": [
        {
          "output_type": "execute_result",
          "data": {
            "text/plain": [
              "==========================================================================================\n",
              "Layer (type:depth-idx)                   Output Shape              Param #\n",
              "==========================================================================================\n",
              "TinyVGG                                  [32, 10]                  --\n",
              "├─Sequential: 1-1                        [32, 10, 14, 14]          --\n",
              "│    └─Conv2d: 2-1                       [32, 10, 30, 30]          280\n",
              "│    └─ReLU: 2-2                         [32, 10, 30, 30]          --\n",
              "│    └─Conv2d: 2-3                       [32, 10, 28, 28]          910\n",
              "│    └─ReLU: 2-4                         [32, 10, 28, 28]          --\n",
              "│    └─MaxPool2d: 2-5                    [32, 10, 14, 14]          --\n",
              "├─Sequential: 1-2                        [32, 10, 5, 5]            --\n",
              "│    └─Conv2d: 2-6                       [32, 10, 12, 12]          910\n",
              "│    └─ReLU: 2-7                         [32, 10, 12, 12]          --\n",
              "│    └─Conv2d: 2-8                       [32, 10, 10, 10]          910\n",
              "│    └─ReLU: 2-9                         [32, 10, 10, 10]          --\n",
              "│    └─MaxPool2d: 2-10                   [32, 10, 5, 5]            --\n",
              "├─Sequential: 1-3                        [32, 10]                  --\n",
              "│    └─Flatten: 2-11                     [32, 250]                 --\n",
              "│    └─Linear: 2-12                      [32, 10]                  2,510\n",
              "==========================================================================================\n",
              "Total params: 5,520\n",
              "Trainable params: 5,520\n",
              "Non-trainable params: 0\n",
              "Total mult-adds (M): 38.08\n",
              "==========================================================================================\n",
              "Input size (MB): 0.39\n",
              "Forward/backward pass size (MB): 4.94\n",
              "Params size (MB): 0.02\n",
              "Estimated Total Size (MB): 5.35\n",
              "=========================================================================================="
            ]
          },
          "metadata": {},
          "execution_count": 27
        }
      ]
    },
    {
      "cell_type": "markdown",
      "source": [
        "### 5.2 resnet18"
      ],
      "metadata": {
        "id": "5b_II3JA1T10"
      }
    },
    {
      "cell_type": "code",
      "source": [
        "summary(model=model_resnet18,\n",
        "        input_size=(32, 3, 32, 32)\n",
        "        )"
      ],
      "metadata": {
        "colab": {
          "base_uri": "https://localhost:8080/"
        },
        "id": "Xx9NmZ1K1W14",
        "outputId": "c28d0706-266b-431e-b5ab-f1c5c190c5ea"
      },
      "execution_count": 28,
      "outputs": [
        {
          "output_type": "execute_result",
          "data": {
            "text/plain": [
              "==========================================================================================\n",
              "Layer (type:depth-idx)                   Output Shape              Param #\n",
              "==========================================================================================\n",
              "ResNet                                   [32, 10]                  --\n",
              "├─Conv2d: 1-1                            [32, 64, 32, 32]          1,792\n",
              "├─BatchNorm2d: 1-2                       [32, 64, 32, 32]          128\n",
              "├─ReLU: 1-3                              [32, 64, 32, 32]          --\n",
              "├─MaxPool2d: 1-4                         [32, 64, 16, 16]          --\n",
              "├─Sequential: 1-5                        [32, 64, 16, 16]          --\n",
              "│    └─BasicBlock: 2-1                   [32, 64, 16, 16]          --\n",
              "│    │    └─Conv2d: 3-1                  [32, 64, 16, 16]          36,864\n",
              "│    │    └─BatchNorm2d: 3-2             [32, 64, 16, 16]          128\n",
              "│    │    └─ReLU: 3-3                    [32, 64, 16, 16]          --\n",
              "│    │    └─Conv2d: 3-4                  [32, 64, 16, 16]          36,864\n",
              "│    │    └─BatchNorm2d: 3-5             [32, 64, 16, 16]          128\n",
              "│    │    └─ReLU: 3-6                    [32, 64, 16, 16]          --\n",
              "│    └─BasicBlock: 2-2                   [32, 64, 16, 16]          --\n",
              "│    │    └─Conv2d: 3-7                  [32, 64, 16, 16]          36,864\n",
              "│    │    └─BatchNorm2d: 3-8             [32, 64, 16, 16]          128\n",
              "│    │    └─ReLU: 3-9                    [32, 64, 16, 16]          --\n",
              "│    │    └─Conv2d: 3-10                 [32, 64, 16, 16]          36,864\n",
              "│    │    └─BatchNorm2d: 3-11            [32, 64, 16, 16]          128\n",
              "│    │    └─ReLU: 3-12                   [32, 64, 16, 16]          --\n",
              "├─Sequential: 1-6                        [32, 128, 8, 8]           --\n",
              "│    └─BasicBlock: 2-3                   [32, 128, 8, 8]           --\n",
              "│    │    └─Conv2d: 3-13                 [32, 128, 8, 8]           73,728\n",
              "│    │    └─BatchNorm2d: 3-14            [32, 128, 8, 8]           256\n",
              "│    │    └─ReLU: 3-15                   [32, 128, 8, 8]           --\n",
              "│    │    └─Conv2d: 3-16                 [32, 128, 8, 8]           147,456\n",
              "│    │    └─BatchNorm2d: 3-17            [32, 128, 8, 8]           256\n",
              "│    │    └─Sequential: 3-18             [32, 128, 8, 8]           8,448\n",
              "│    │    └─ReLU: 3-19                   [32, 128, 8, 8]           --\n",
              "│    └─BasicBlock: 2-4                   [32, 128, 8, 8]           --\n",
              "│    │    └─Conv2d: 3-20                 [32, 128, 8, 8]           147,456\n",
              "│    │    └─BatchNorm2d: 3-21            [32, 128, 8, 8]           256\n",
              "│    │    └─ReLU: 3-22                   [32, 128, 8, 8]           --\n",
              "│    │    └─Conv2d: 3-23                 [32, 128, 8, 8]           147,456\n",
              "│    │    └─BatchNorm2d: 3-24            [32, 128, 8, 8]           256\n",
              "│    │    └─ReLU: 3-25                   [32, 128, 8, 8]           --\n",
              "├─Sequential: 1-7                        [32, 256, 4, 4]           --\n",
              "│    └─BasicBlock: 2-5                   [32, 256, 4, 4]           --\n",
              "│    │    └─Conv2d: 3-26                 [32, 256, 4, 4]           294,912\n",
              "│    │    └─BatchNorm2d: 3-27            [32, 256, 4, 4]           512\n",
              "│    │    └─ReLU: 3-28                   [32, 256, 4, 4]           --\n",
              "│    │    └─Conv2d: 3-29                 [32, 256, 4, 4]           589,824\n",
              "│    │    └─BatchNorm2d: 3-30            [32, 256, 4, 4]           512\n",
              "│    │    └─Sequential: 3-31             [32, 256, 4, 4]           33,280\n",
              "│    │    └─ReLU: 3-32                   [32, 256, 4, 4]           --\n",
              "│    └─BasicBlock: 2-6                   [32, 256, 4, 4]           --\n",
              "│    │    └─Conv2d: 3-33                 [32, 256, 4, 4]           589,824\n",
              "│    │    └─BatchNorm2d: 3-34            [32, 256, 4, 4]           512\n",
              "│    │    └─ReLU: 3-35                   [32, 256, 4, 4]           --\n",
              "│    │    └─Conv2d: 3-36                 [32, 256, 4, 4]           589,824\n",
              "│    │    └─BatchNorm2d: 3-37            [32, 256, 4, 4]           512\n",
              "│    │    └─ReLU: 3-38                   [32, 256, 4, 4]           --\n",
              "├─Sequential: 1-8                        [32, 512, 2, 2]           --\n",
              "│    └─BasicBlock: 2-7                   [32, 512, 2, 2]           --\n",
              "│    │    └─Conv2d: 3-39                 [32, 512, 2, 2]           1,179,648\n",
              "│    │    └─BatchNorm2d: 3-40            [32, 512, 2, 2]           1,024\n",
              "│    │    └─ReLU: 3-41                   [32, 512, 2, 2]           --\n",
              "│    │    └─Conv2d: 3-42                 [32, 512, 2, 2]           2,359,296\n",
              "│    │    └─BatchNorm2d: 3-43            [32, 512, 2, 2]           1,024\n",
              "│    │    └─Sequential: 3-44             [32, 512, 2, 2]           132,096\n",
              "│    │    └─ReLU: 3-45                   [32, 512, 2, 2]           --\n",
              "│    └─BasicBlock: 2-8                   [32, 512, 2, 2]           --\n",
              "│    │    └─Conv2d: 3-46                 [32, 512, 2, 2]           2,359,296\n",
              "│    │    └─BatchNorm2d: 3-47            [32, 512, 2, 2]           1,024\n",
              "│    │    └─ReLU: 3-48                   [32, 512, 2, 2]           --\n",
              "│    │    └─Conv2d: 3-49                 [32, 512, 2, 2]           2,359,296\n",
              "│    │    └─BatchNorm2d: 3-50            [32, 512, 2, 2]           1,024\n",
              "│    │    └─ReLU: 3-51                   [32, 512, 2, 2]           --\n",
              "├─AdaptiveAvgPool2d: 1-9                 [32, 512, 1, 1]           --\n",
              "├─Linear: 1-10                           [32, 10]                  5,130\n",
              "==========================================================================================\n",
              "Total params: 11,174,026\n",
              "Trainable params: 11,174,026\n",
              "Non-trainable params: 0\n",
              "Total mult-adds (G): 4.49\n",
              "==========================================================================================\n",
              "Input size (MB): 0.39\n",
              "Forward/backward pass size (MB): 103.81\n",
              "Params size (MB): 44.70\n",
              "Estimated Total Size (MB): 148.90\n",
              "=========================================================================================="
            ]
          },
          "metadata": {},
          "execution_count": 28
        }
      ]
    },
    {
      "cell_type": "markdown",
      "source": [
        "### 5.3 resnet18 (hugging face pretrained version)"
      ],
      "metadata": {
        "id": "6lue17su8UWN"
      }
    },
    {
      "cell_type": "code",
      "source": [
        "summary(model=model_resnet18_svh_hugging_face,\n",
        "        input_size=(32, 3, 32, 32)\n",
        "        )"
      ],
      "metadata": {
        "colab": {
          "base_uri": "https://localhost:8080/"
        },
        "id": "8Lm5TGRq8Y5Z",
        "outputId": "925fc91b-a5c5-433e-c274-59761d8d3b9f"
      },
      "execution_count": 46,
      "outputs": [
        {
          "output_type": "execute_result",
          "data": {
            "text/plain": [
              "==========================================================================================\n",
              "Layer (type:depth-idx)                   Output Shape              Param #\n",
              "==========================================================================================\n",
              "ResNet                                   [32, 10]                  --\n",
              "├─Conv2d: 1-1                            [32, 64, 32, 32]          1,728\n",
              "├─BatchNorm2d: 1-2                       [32, 64, 32, 32]          128\n",
              "├─ReLU: 1-3                              [32, 64, 32, 32]          --\n",
              "├─Identity: 1-4                          [32, 64, 32, 32]          --\n",
              "├─Sequential: 1-5                        [32, 64, 32, 32]          --\n",
              "│    └─BasicBlock: 2-1                   [32, 64, 32, 32]          --\n",
              "│    │    └─Conv2d: 3-1                  [32, 64, 32, 32]          36,864\n",
              "│    │    └─BatchNorm2d: 3-2             [32, 64, 32, 32]          128\n",
              "│    │    └─Identity: 3-3                [32, 64, 32, 32]          --\n",
              "│    │    └─ReLU: 3-4                    [32, 64, 32, 32]          --\n",
              "│    │    └─Identity: 3-5                [32, 64, 32, 32]          --\n",
              "│    │    └─Conv2d: 3-6                  [32, 64, 32, 32]          36,864\n",
              "│    │    └─BatchNorm2d: 3-7             [32, 64, 32, 32]          128\n",
              "│    │    └─ReLU: 3-8                    [32, 64, 32, 32]          --\n",
              "│    └─BasicBlock: 2-2                   [32, 64, 32, 32]          --\n",
              "│    │    └─Conv2d: 3-9                  [32, 64, 32, 32]          36,864\n",
              "│    │    └─BatchNorm2d: 3-10            [32, 64, 32, 32]          128\n",
              "│    │    └─Identity: 3-11               [32, 64, 32, 32]          --\n",
              "│    │    └─ReLU: 3-12                   [32, 64, 32, 32]          --\n",
              "│    │    └─Identity: 3-13               [32, 64, 32, 32]          --\n",
              "│    │    └─Conv2d: 3-14                 [32, 64, 32, 32]          36,864\n",
              "│    │    └─BatchNorm2d: 3-15            [32, 64, 32, 32]          128\n",
              "│    │    └─ReLU: 3-16                   [32, 64, 32, 32]          --\n",
              "├─Sequential: 1-6                        [32, 128, 16, 16]         --\n",
              "│    └─BasicBlock: 2-3                   [32, 128, 16, 16]         --\n",
              "│    │    └─Conv2d: 3-17                 [32, 128, 16, 16]         73,728\n",
              "│    │    └─BatchNorm2d: 3-18            [32, 128, 16, 16]         256\n",
              "│    │    └─Identity: 3-19               [32, 128, 16, 16]         --\n",
              "│    │    └─ReLU: 3-20                   [32, 128, 16, 16]         --\n",
              "│    │    └─Identity: 3-21               [32, 128, 16, 16]         --\n",
              "│    │    └─Conv2d: 3-22                 [32, 128, 16, 16]         147,456\n",
              "│    │    └─BatchNorm2d: 3-23            [32, 128, 16, 16]         256\n",
              "│    │    └─Sequential: 3-24             [32, 128, 16, 16]         8,448\n",
              "│    │    └─ReLU: 3-25                   [32, 128, 16, 16]         --\n",
              "│    └─BasicBlock: 2-4                   [32, 128, 16, 16]         --\n",
              "│    │    └─Conv2d: 3-26                 [32, 128, 16, 16]         147,456\n",
              "│    │    └─BatchNorm2d: 3-27            [32, 128, 16, 16]         256\n",
              "│    │    └─Identity: 3-28               [32, 128, 16, 16]         --\n",
              "│    │    └─ReLU: 3-29                   [32, 128, 16, 16]         --\n",
              "│    │    └─Identity: 3-30               [32, 128, 16, 16]         --\n",
              "│    │    └─Conv2d: 3-31                 [32, 128, 16, 16]         147,456\n",
              "│    │    └─BatchNorm2d: 3-32            [32, 128, 16, 16]         256\n",
              "│    │    └─ReLU: 3-33                   [32, 128, 16, 16]         --\n",
              "├─Sequential: 1-7                        [32, 256, 8, 8]           --\n",
              "│    └─BasicBlock: 2-5                   [32, 256, 8, 8]           --\n",
              "│    │    └─Conv2d: 3-34                 [32, 256, 8, 8]           294,912\n",
              "│    │    └─BatchNorm2d: 3-35            [32, 256, 8, 8]           512\n",
              "│    │    └─Identity: 3-36               [32, 256, 8, 8]           --\n",
              "│    │    └─ReLU: 3-37                   [32, 256, 8, 8]           --\n",
              "│    │    └─Identity: 3-38               [32, 256, 8, 8]           --\n",
              "│    │    └─Conv2d: 3-39                 [32, 256, 8, 8]           589,824\n",
              "│    │    └─BatchNorm2d: 3-40            [32, 256, 8, 8]           512\n",
              "│    │    └─Sequential: 3-41             [32, 256, 8, 8]           33,280\n",
              "│    │    └─ReLU: 3-42                   [32, 256, 8, 8]           --\n",
              "│    └─BasicBlock: 2-6                   [32, 256, 8, 8]           --\n",
              "│    │    └─Conv2d: 3-43                 [32, 256, 8, 8]           589,824\n",
              "│    │    └─BatchNorm2d: 3-44            [32, 256, 8, 8]           512\n",
              "│    │    └─Identity: 3-45               [32, 256, 8, 8]           --\n",
              "│    │    └─ReLU: 3-46                   [32, 256, 8, 8]           --\n",
              "│    │    └─Identity: 3-47               [32, 256, 8, 8]           --\n",
              "│    │    └─Conv2d: 3-48                 [32, 256, 8, 8]           589,824\n",
              "│    │    └─BatchNorm2d: 3-49            [32, 256, 8, 8]           512\n",
              "│    │    └─ReLU: 3-50                   [32, 256, 8, 8]           --\n",
              "├─Sequential: 1-8                        [32, 512, 4, 4]           --\n",
              "│    └─BasicBlock: 2-7                   [32, 512, 4, 4]           --\n",
              "│    │    └─Conv2d: 3-51                 [32, 512, 4, 4]           1,179,648\n",
              "│    │    └─BatchNorm2d: 3-52            [32, 512, 4, 4]           1,024\n",
              "│    │    └─Identity: 3-53               [32, 512, 4, 4]           --\n",
              "│    │    └─ReLU: 3-54                   [32, 512, 4, 4]           --\n",
              "│    │    └─Identity: 3-55               [32, 512, 4, 4]           --\n",
              "│    │    └─Conv2d: 3-56                 [32, 512, 4, 4]           2,359,296\n",
              "│    │    └─BatchNorm2d: 3-57            [32, 512, 4, 4]           1,024\n",
              "│    │    └─Sequential: 3-58             [32, 512, 4, 4]           132,096\n",
              "│    │    └─ReLU: 3-59                   [32, 512, 4, 4]           --\n",
              "│    └─BasicBlock: 2-8                   [32, 512, 4, 4]           --\n",
              "│    │    └─Conv2d: 3-60                 [32, 512, 4, 4]           2,359,296\n",
              "│    │    └─BatchNorm2d: 3-61            [32, 512, 4, 4]           1,024\n",
              "│    │    └─Identity: 3-62               [32, 512, 4, 4]           --\n",
              "│    │    └─ReLU: 3-63                   [32, 512, 4, 4]           --\n",
              "│    │    └─Identity: 3-64               [32, 512, 4, 4]           --\n",
              "│    │    └─Conv2d: 3-65                 [32, 512, 4, 4]           2,359,296\n",
              "│    │    └─BatchNorm2d: 3-66            [32, 512, 4, 4]           1,024\n",
              "│    │    └─ReLU: 3-67                   [32, 512, 4, 4]           --\n",
              "├─SelectAdaptivePool2d: 1-9              [32, 512]                 --\n",
              "│    └─AdaptiveAvgPool2d: 2-9            [32, 512, 1, 1]           --\n",
              "│    └─Flatten: 2-10                     [32, 512]                 --\n",
              "├─Linear: 1-10                           [32, 10]                  5,130\n",
              "==========================================================================================\n",
              "Total params: 11,173,962\n",
              "Trainable params: 11,173,962\n",
              "Non-trainable params: 0\n",
              "Total mult-adds (G): 17.77\n",
              "==========================================================================================\n",
              "Input size (MB): 0.39\n",
              "Forward/backward pass size (MB): 314.58\n",
              "Params size (MB): 44.70\n",
              "Estimated Total Size (MB): 359.66\n",
              "=========================================================================================="
            ]
          },
          "metadata": {},
          "execution_count": 46
        }
      ]
    },
    {
      "cell_type": "markdown",
      "source": [
        "We can see that ResNet18 (pretrained version) has the highest complexity, which might lead to better results. Let's find out!"
      ],
      "metadata": {
        "id": "HXAaFJDjdnFl"
      }
    },
    {
      "cell_type": "markdown",
      "source": [
        "##6. Define train and test functions"
      ],
      "metadata": {
        "id": "vW6eam1Xy235"
      }
    },
    {
      "cell_type": "markdown",
      "source": [
        "It's time to define some functions that are going to help us in order to perform the train/test loop for our model."
      ],
      "metadata": {
        "id": "TqTSPA0Ad6kU"
      }
    },
    {
      "cell_type": "code",
      "source": [
        "def train_step(model: torch.nn.Module,\n",
        "              dataloader: torch.utils.data.DataLoader,\n",
        "              loss_fn: torch.nn.Module,\n",
        "              optimizer: torch.optim.Optimizer,\n",
        "              device: torch.device):\n",
        "\n",
        "  #put the model on train model\n",
        "  model.train()\n",
        "\n",
        "  #add evaluation metrics\n",
        "  train_loss, train_acc = 0, 0\n",
        "\n",
        "  #TRAIN LOOP\n",
        "  for batch, (X, y) in enumerate(dataloader):\n",
        "    #send data to device\n",
        "    X, y = X.to(device), y.to(device)\n",
        "\n",
        "    #perform forward pass\n",
        "    y_pred = model(X)\n",
        "\n",
        "    #calculate loss\n",
        "    loss = loss_fn(y_pred, y)\n",
        "    train_loss += loss.item()\n",
        "\n",
        "    #optimize zero grad\n",
        "    optimizer.zero_grad()\n",
        "\n",
        "    #perform backpropagation\n",
        "    loss.backward()\n",
        "\n",
        "    #optimizer step\n",
        "    optimizer.step()\n",
        "\n",
        "    #calculate accuracy\n",
        "    y_pred_class = torch.argmax(torch.softmax(y_pred, dim=1), dim=1)\n",
        "    train_acc += (y_pred_class == y).sum().item()/len(y_pred)\n",
        "\n",
        "  #adjust metrics to get the average\n",
        "  train_loss = train_loss/len(dataloader)\n",
        "  train_acc = train_acc/len(dataloader)\n",
        "  return train_loss, train_acc"
      ],
      "metadata": {
        "id": "_HACGthky51R"
      },
      "execution_count": 29,
      "outputs": []
    },
    {
      "cell_type": "code",
      "source": [
        "def test_step(model: torch.nn.Module,\n",
        "              dataloader: torch.utils.data.DataLoader,\n",
        "              loss_fn: torch.nn.Module,\n",
        "              optimizer: torch.optim.Optimizer,\n",
        "              device: torch.device):\n",
        "\n",
        "  #put the model on train model\n",
        "  model.eval()\n",
        "\n",
        "  #add evaluation metrics\n",
        "  test_loss, test_acc = 0, 0\n",
        "\n",
        "  #TEST LOOP\n",
        "  with torch.inference_mode():\n",
        "    for batch, (X, y) in enumerate(dataloader):\n",
        "      X, y = X.to(device), y.to(device)\n",
        "\n",
        "      #1. Forward pass\n",
        "      test_pred_logits = model(X)\n",
        "\n",
        "      #2. Calculate loss\n",
        "      loss = loss_fn(test_pred_logits, y)\n",
        "      test_loss += loss.item()\n",
        "\n",
        "      #3. Calculate accuracy\n",
        "      test_pred_labels = test_pred_logits.argmax(dim=1)\n",
        "      test_acc += (test_pred_labels == y).sum().item()/len(test_pred_labels)\n",
        "\n",
        "  #adjust metrics to get the average\n",
        "  test_loss = test_loss/len(dataloader)\n",
        "  test_acc = test_acc/len(dataloader)\n",
        "  return test_loss, test_acc"
      ],
      "metadata": {
        "id": "j8jcmrR_y8nB"
      },
      "execution_count": 30,
      "outputs": []
    },
    {
      "cell_type": "code",
      "source": [
        "from tqdm.auto import tqdm\n",
        "\n",
        "#1.Create a train function that takes in various model parameters\n",
        "def train(model:torch.nn.Module,\n",
        "          train_dataloader: torch.utils.data.DataLoader,\n",
        "          test_dataloader: torch.utils.data.DataLoader,\n",
        "          optimizer: torch.optim.Optimizer,\n",
        "          loss_fn: torch.nn,\n",
        "          epochs: int,\n",
        "          device: torch.device):\n",
        "\n",
        "  #2.Creates empty result dictionary\n",
        "  results = {\"train_loss\": [],\n",
        "             \"train_acc\": [],\n",
        "             \"test_loss\": [],\n",
        "             \"test_acc\": []\n",
        "             }\n",
        "\n",
        "  #3.Loop though train and testing steps\n",
        "  for epoch in tqdm(range(epochs)):\n",
        "    train_loss, train_acc = train_step(model=model,\n",
        "                                       dataloader=train_dataloader,\n",
        "                                       loss_fn=loss_fn,\n",
        "                                       optimizer=optimizer,\n",
        "                                       device=device)\n",
        "\n",
        "    test_loss, test_acc = test_step(model=model,\n",
        "                                    dataloader=test_dataloader,\n",
        "                                    loss_fn=loss_fn,\n",
        "                                    optimizer=optimizer,\n",
        "                                    device=device)\n",
        "\n",
        "    #4.Obtain the results and save them in a dictionary\n",
        "    print(f\"Epoch: {epoch+1} | Train loss: {train_loss:.4f} | Train acc: {train_acc:.4f} | Test loss: {test_loss:.4f} | Test acc: {test_acc:.4f}\")\n",
        "    results[\"train_loss\"].append(train_loss)\n",
        "    results[\"train_acc\"].append(train_acc)\n",
        "    results[\"test_loss\"].append(test_loss)\n",
        "    results[\"test_acc\"].append(test_acc)\n",
        "\n",
        "  return results"
      ],
      "metadata": {
        "id": "PUDifKiuy_rv"
      },
      "execution_count": 31,
      "outputs": []
    },
    {
      "cell_type": "markdown",
      "source": [
        "## 7.Train and evaluate our models"
      ],
      "metadata": {
        "id": "ErR1gVO9zFGg"
      }
    },
    {
      "cell_type": "markdown",
      "source": [
        "For testing purposes, I will use a very small number of epochs. However, if you have sufficient resources, I recommend experimenting with a higher range, such as 50 to 100 epochs, to achieve better model performance."
      ],
      "metadata": {
        "id": "fLhQDvrM3Dqq"
      }
    },
    {
      "cell_type": "markdown",
      "source": [
        "### 7.1 TinyVGG"
      ],
      "metadata": {
        "id": "Rj4JxvwozIXl"
      }
    },
    {
      "cell_type": "code",
      "source": [
        "torch.manual_seed(42)\n",
        "model_tinyvgg = TinyVGG(input_shape=3,\n",
        "                  hidden_units=10,\n",
        "                  output_shape=len(classes_labels)\n",
        "                  ).to(device)"
      ],
      "metadata": {
        "id": "3z1LcDVdzLL_"
      },
      "execution_count": 32,
      "outputs": []
    },
    {
      "cell_type": "code",
      "source": [
        "optimizer = torch.optim.Adam(params=model_tinyvgg.parameters(),\n",
        "                             lr=0.001)\n",
        "loss_fn = nn.CrossEntropyLoss()\n",
        "number_of_epochs = 3"
      ],
      "metadata": {
        "id": "NXkz_wcfzT3J"
      },
      "execution_count": 33,
      "outputs": []
    },
    {
      "cell_type": "code",
      "source": [
        "model_tinyvgg_results = train(model_tinyvgg,train_dataloader,test_dataloader,optimizer,loss_fn,number_of_epochs,device)"
      ],
      "metadata": {
        "colab": {
          "base_uri": "https://localhost:8080/",
          "height": 103,
          "referenced_widgets": [
            "48b43518bca14544bb62611b4ae78062",
            "0d895d10d94748eabb8c2762eee005e6",
            "9020933cd0d8480c8cc43fd0c80c3e14",
            "fa93bb1173814aa988eee808e20a567d",
            "292ab2b9f8234c3eb0da65dded5719ef",
            "5929b8d3e1364048a22b8d5f8bae8bc1",
            "b9a593d3dac8413ebe13f310da49f65c",
            "1313bd6837f64f82b981ccf5f942d3f0",
            "dfc1292d77ac4ae58328568e0df372c8",
            "00073969d37a456c96f005231f861e18",
            "15eabed2eeed421cb6fe6a762f0e010e"
          ]
        },
        "id": "HtcuUEV4zXqR",
        "outputId": "c23e5c2a-6356-4e94-b12a-6b52c04c17d0"
      },
      "execution_count": 34,
      "outputs": [
        {
          "output_type": "display_data",
          "data": {
            "text/plain": [
              "  0%|          | 0/3 [00:00<?, ?it/s]"
            ],
            "application/vnd.jupyter.widget-view+json": {
              "version_major": 2,
              "version_minor": 0,
              "model_id": "48b43518bca14544bb62611b4ae78062"
            }
          },
          "metadata": {}
        },
        {
          "output_type": "stream",
          "name": "stdout",
          "text": [
            "Epoch: 1 | Train loss: 1.8109 | Train acc: 0.3654 | Test loss: 0.8960 | Test acc: 0.7378\n",
            "Epoch: 2 | Train loss: 0.7620 | Train acc: 0.7722 | Test loss: 0.7515 | Test acc: 0.7849\n",
            "Epoch: 3 | Train loss: 0.6661 | Train acc: 0.8028 | Test loss: 0.7008 | Test acc: 0.8000\n"
          ]
        }
      ]
    },
    {
      "cell_type": "markdown",
      "source": [
        "### 7.2 Resnet18"
      ],
      "metadata": {
        "id": "Qc94M46c1gSv"
      }
    },
    {
      "cell_type": "code",
      "source": [
        "optimizer = torch.optim.Adam(params=model_resnet18.parameters(),\n",
        "                             lr=0.001)\n",
        "loss_fn = nn.CrossEntropyLoss()\n",
        "number_of_epochs = 3"
      ],
      "metadata": {
        "id": "V07ZCjkH2zC5"
      },
      "execution_count": 35,
      "outputs": []
    },
    {
      "cell_type": "code",
      "source": [
        "model_resnet18_results = train(model_resnet18,train_dataloader,test_dataloader,optimizer,loss_fn,number_of_epochs,device)"
      ],
      "metadata": {
        "colab": {
          "base_uri": "https://localhost:8080/",
          "height": 103,
          "referenced_widgets": [
            "18d6d433eeb94224986d300189440e83",
            "6e4b3436fbe94a0f8a0f486cab668e79",
            "b2b534cc933d44b6ac3ce70573cf0650",
            "6d3cd75d2ed749eeaf8f27e7a7f815bd",
            "026c8787f7994d148c27e48210e902be",
            "9e78199a2563464288c47b2fb7f00a26",
            "33ec4d3736424fd9ad70339152ed7dde",
            "79b1f3eb4e2945f9ac76aee5cc337031",
            "b996312c6d6f4c9292b2fd5355181ba0",
            "1c2b6dd6289e46169a16b266ccceb4e6",
            "a9e5696d977e462bb3a09ef320d98456"
          ]
        },
        "id": "Pl8VcEOz228v",
        "outputId": "8647276a-abc7-4b9b-805e-3225270f78ae"
      },
      "execution_count": 36,
      "outputs": [
        {
          "output_type": "display_data",
          "data": {
            "text/plain": [
              "  0%|          | 0/3 [00:00<?, ?it/s]"
            ],
            "application/vnd.jupyter.widget-view+json": {
              "version_major": 2,
              "version_minor": 0,
              "model_id": "18d6d433eeb94224986d300189440e83"
            }
          },
          "metadata": {}
        },
        {
          "output_type": "stream",
          "name": "stdout",
          "text": [
            "Epoch: 1 | Train loss: 0.5351 | Train acc: 0.8365 | Test loss: 0.3131 | Test acc: 0.9108\n",
            "Epoch: 2 | Train loss: 0.2854 | Train acc: 0.9186 | Test loss: 0.2529 | Test acc: 0.9296\n",
            "Epoch: 3 | Train loss: 0.2244 | Train acc: 0.9359 | Test loss: 0.2292 | Test acc: 0.9355\n"
          ]
        }
      ]
    },
    {
      "cell_type": "markdown",
      "source": [
        "### 7.3 Resnet18 (hugging face pretrained version)"
      ],
      "metadata": {
        "id": "UeGVrc4568xD"
      }
    },
    {
      "cell_type": "code",
      "source": [
        "optimizer = torch.optim.Adam(params=model_resnet18_svh_hugging_face.parameters(),\n",
        "                             lr=0.001)\n",
        "loss_fn = nn.CrossEntropyLoss()\n",
        "number_of_epochs = 3"
      ],
      "metadata": {
        "id": "chN8h0lz7A0L"
      },
      "execution_count": 48,
      "outputs": []
    },
    {
      "cell_type": "code",
      "source": [
        "model_resnet18_svh_hugging_face_results = train(model_resnet18_svh_hugging_face,train_dataloader,test_dataloader,optimizer,loss_fn,number_of_epochs,device)"
      ],
      "metadata": {
        "colab": {
          "base_uri": "https://localhost:8080/",
          "height": 103,
          "referenced_widgets": [
            "59d0b797a66f4626b2c6d05d92d8d675",
            "3d172d9c3945447caaaf17d1ed463608",
            "6239b49129ca47208abcd58def885e2c",
            "d75be94c06a9425c8fb121508396f1c6",
            "1d482f464ace493e89ba8f8acf574adc",
            "3de41263f5c545e1a9b639bebb044876",
            "0dc50928160548058dd729933873b265",
            "f73078a3d0c3455e9d7f41a50e548e54",
            "485ac8de6bdb4db39bfbd467f51811f2",
            "89c17072205e422b9595df31421064f4",
            "96438bdc8b8b4a0098f818470f6460c0"
          ]
        },
        "id": "JlCD7dAZ7A2s",
        "outputId": "19d0c595-f18e-4533-cc20-ac538a8fdc7b"
      },
      "execution_count": 49,
      "outputs": [
        {
          "output_type": "display_data",
          "data": {
            "text/plain": [
              "  0%|          | 0/3 [00:00<?, ?it/s]"
            ],
            "application/vnd.jupyter.widget-view+json": {
              "version_major": 2,
              "version_minor": 0,
              "model_id": "59d0b797a66f4626b2c6d05d92d8d675"
            }
          },
          "metadata": {}
        },
        {
          "output_type": "stream",
          "name": "stdout",
          "text": [
            "Epoch: 1 | Train loss: 0.2919 | Train acc: 0.9150 | Test loss: 0.2396 | Test acc: 0.9325\n",
            "Epoch: 2 | Train loss: 0.2055 | Train acc: 0.9414 | Test loss: 0.1986 | Test acc: 0.9446\n",
            "Epoch: 3 | Train loss: 0.1681 | Train acc: 0.9526 | Test loss: 0.1740 | Test acc: 0.9522\n"
          ]
        }
      ]
    },
    {
      "cell_type": "markdown",
      "source": [
        "## 8. Compare model results"
      ],
      "metadata": {
        "id": "fqYXOpR07Uns"
      }
    },
    {
      "cell_type": "markdown",
      "source": [
        "After the train stage, it's time to visualize the obtained results."
      ],
      "metadata": {
        "id": "BOFdEPIJeL61"
      }
    },
    {
      "cell_type": "code",
      "source": [
        "model_tinyvgg_results_df = pd.DataFrame(model_tinyvgg_results)\n",
        "model_resnet18_results_df = pd.DataFrame(model_resnet18_results)\n",
        "model_resnet18_svh_hugging_face_results_df = pd.DataFrame(model_resnet18_svh_hugging_face_results)"
      ],
      "metadata": {
        "id": "2X0s8PvC-G30"
      },
      "execution_count": 51,
      "outputs": []
    },
    {
      "cell_type": "code",
      "source": [
        "# Create the figure with a specific size\n",
        "plt.figure(figsize=(15, 10))\n",
        "\n",
        "# Get the number of epochs (assuming all DataFrames have the same length)\n",
        "epochs = range(len(model_tinyvgg_results_df))\n",
        "\n",
        "# Plot Train Loss\n",
        "plt.subplot(2, 2, 1)\n",
        "plt.plot(epochs, model_tinyvgg_results_df['train_loss'], label='TinyVGG_train_loss')\n",
        "plt.plot(epochs, model_resnet18_results_df['train_loss'], label='ResNet18_train_loss')\n",
        "plt.plot(epochs, model_resnet18_svh_hugging_face_results_df['train_loss'], label='ResNet18_HF_train_loss')\n",
        "plt.title('Train Loss')\n",
        "plt.xlabel('Epochs')\n",
        "plt.legend()\n",
        "\n",
        "# Plot Test Loss\n",
        "plt.subplot(2, 2, 2)\n",
        "plt.plot(epochs, model_tinyvgg_results_df['test_loss'], label='TinyVGG_test_loss')\n",
        "plt.plot(epochs, model_resnet18_results_df['test_loss'], label='ResNet18_test_loss')\n",
        "plt.plot(epochs, model_resnet18_svh_hugging_face_results_df['test_loss'], label='ResNet18_HF_test_loss')\n",
        "plt.title('Test Loss')\n",
        "plt.xlabel('Epochs')\n",
        "plt.legend()\n",
        "\n",
        "# Plot Train Accuracy\n",
        "plt.subplot(2, 2, 3)\n",
        "plt.plot(epochs, model_tinyvgg_results_df['train_acc'], label='TinyVGG_train_acc')\n",
        "plt.plot(epochs, model_resnet18_results_df['train_acc'], label='ResNet18_train_acc')\n",
        "plt.plot(epochs, model_resnet18_svh_hugging_face_results_df['train_acc'], label='ResNet18_HF_train_acc')\n",
        "plt.title('Train Accuracy')\n",
        "plt.xlabel('Epochs')\n",
        "plt.legend()\n",
        "\n",
        "# Plot Test Accuracy\n",
        "plt.subplot(2, 2, 4)\n",
        "plt.plot(epochs, model_tinyvgg_results_df['test_acc'], label='TinyVGG_test_acc')\n",
        "plt.plot(epochs, model_resnet18_results_df['test_acc'], label='ResNet18_test_acc')\n",
        "plt.plot(epochs, model_resnet18_svh_hugging_face_results_df['test_acc'], label='ResNet18_HF_test_acc')\n",
        "plt.title('Test Accuracy')\n",
        "plt.xlabel('Epochs')\n",
        "plt.legend()\n",
        "\n",
        "# Show the plots\n",
        "plt.tight_layout()  # Ensures there is no overlap between subplots\n",
        "plt.show()"
      ],
      "metadata": {
        "colab": {
          "base_uri": "https://localhost:8080/",
          "height": 1000
        },
        "id": "wY_QL8nc-jnO",
        "outputId": "4dc1dd5a-1612-4b65-b782-ce70a7c7d44f"
      },
      "execution_count": 52,
      "outputs": [
        {
          "output_type": "display_data",
          "data": {
            "text/plain": [
              "<Figure size 1500x1000 with 4 Axes>"
            ],
            "image/png": "[encoded data removed]"
          },
          "metadata": {}
        }
      ]
    },
    {
      "cell_type": "markdown",
      "source": [
        "**Conclusion**\n",
        "\n",
        "- ResNet18_HF is the best-performing model in all metrics because it is tailored training strategy on the SVHN dataset, optimized learning rate schedule, and extended training epochs.\n",
        "  High generalization capabilities resulting from fine-tuning using modern optimization techniques and dataset-specific configurations.\n",
        "  \n",
        "- The ResNet18 model is a strong baseline but is slightly less effective than ResNet18_HF for this task. This suggests that while pretrained weights offer a good starting point, fine-tuning can substantially improve performance on a specific dataset like SVHN.\n",
        "\n",
        "- TinyVGG performs the worst, as expected given its smaller architecture, which is less capable of handling the complexity of the SVHN dataset compared to the deeper ResNet models.\n",
        "\n",
        "Key Insights:\n",
        "Fine-tuning pretrained models (like ResNet18_HF) on the target dataset with task-specific configurations significantly enhances performance.\n",
        "Pretrained general-purpose models (ResNet18) are still effective but benefit from additional training tailored to the dataset.\n",
        "Simpler models like TinyVGG can be useful for lightweight applications but fall short on complex datasets like SVHN.\n",
        "\n",
        "\n",
        "\n",
        "\n",
        "\n"
      ],
      "metadata": {
        "id": "o11cV4l9_SJ3"
      }
    },
    {
      "cell_type": "markdown",
      "source": [
        "## 9. Save models"
      ],
      "metadata": {
        "id": "u9OAoe--Ambk"
      }
    },
    {
      "cell_type": "markdown",
      "source": [
        "Saving the weights allows you to reuse the trained model without having to retrain it from scratch, saving time and resources.\n",
        "\n",
        "Also, storing weights allows you to revisit and analyze the performance of a specific model version. This helps in comparing models, identifying issues, or understanding how different configurations affected training."
      ],
      "metadata": {
        "id": "Yhi6NmJLBQJ7"
      }
    },
    {
      "cell_type": "code",
      "source": [
        "save_path = '/content/tinyvgg_weights.pth'\n",
        "torch.save(model_tinyvgg.state_dict(), save_path)\n",
        "print(f\"Model weights saved to {save_path}\")"
      ],
      "metadata": {
        "colab": {
          "base_uri": "https://localhost:8080/"
        },
        "id": "nOvl3c-QBJpD",
        "outputId": "e1d6471a-eb61-4ea0-ced4-67b15829851a"
      },
      "execution_count": 56,
      "outputs": [
        {
          "output_type": "stream",
          "name": "stdout",
          "text": [
            "Model weights saved to /content/tinyvgg_weights.pth\n"
          ]
        }
      ]
    },
    {
      "cell_type": "code",
      "source": [
        "save_path = '/content/resnet18_weights.pth'\n",
        "torch.save(model_resnet18.state_dict(), save_path)\n",
        "print(f\"Model weights saved to {save_path}\")"
      ],
      "metadata": {
        "colab": {
          "base_uri": "https://localhost:8080/"
        },
        "id": "RfWhDVZpA6nz",
        "outputId": "0d547b28-f62a-455d-fd2a-b03c3998995c"
      },
      "execution_count": 55,
      "outputs": [
        {
          "output_type": "stream",
          "name": "stdout",
          "text": [
            "Model weights saved to /content/resnet18_weights.pth\n"
          ]
        }
      ]
    },
    {
      "cell_type": "code",
      "source": [
        "save_path = '/content/resnet18_hf_weights.pth'\n",
        "torch.save(model_resnet18_svh_hugging_face.state_dict(), save_path)\n",
        "print(f\"Model weights saved to {save_path}\")"
      ],
      "metadata": {
        "colab": {
          "base_uri": "https://localhost:8080/"
        },
        "id": "93U6aCFIAp8r",
        "outputId": "6be7085b-8c13-4ebe-8e7c-5b2e5c6e9100"
      },
      "execution_count": 54,
      "outputs": [
        {
          "output_type": "stream",
          "name": "stdout",
          "text": [
            "Model weights saved to /content/resnet18_hf_weights.pth\n"
          ]
        }
      ]
    },
    {
      "cell_type": "markdown",
      "source": [
        "In order to load a model, something like this its necessary:"
      ],
      "metadata": {
        "id": "aMQco4bcByi2"
      }
    },
    {
      "cell_type": "code",
      "source": [
        "import torchvision.models as models\n",
        "\n",
        "# Define your model architecture\n",
        "model_resnet18_hugging_face_load = models.resnet18(weights=None)  # Make sure the architecture matches the saved weights\n",
        "model_resnet18_hugging_face_load.conv1 = nn.Conv2d(3, 64, kernel_size=3, stride=1, padding=1)\n",
        "model_resnet18_hugging_face_load.fc = nn.Linear(model_resnet18.fc.in_features, 10)  # 10 is the number of classes in SVHN\n",
        "model_resnet18_hugging_face_load.to(device)\n",
        "\n",
        "# Load the weights\n",
        "weights_path = '/content/resnet18_hf_weights.pth'\n",
        "state_dict = torch.load(weights_path, weights_only=True)\n",
        "model_resnet18_hugging_face_load.load_state_dict(state_dict, strict=False)\n",
        "\n",
        "print(\"Weights loaded successfully!\")"
      ],
      "metadata": {
        "colab": {
          "base_uri": "https://localhost:8080/"
        },
        "id": "JQsc43PFB2f-",
        "outputId": "05dfeee0-2984-46d0-e059-b36e90a4f6c4"
      },
      "execution_count": 63,
      "outputs": [
        {
          "output_type": "stream",
          "name": "stdout",
          "text": [
            "Weights loaded successfully!\n"
          ]
        }
      ]
    },
    {
      "cell_type": "markdown",
      "source": [
        "## 10. Make an inference over an uploaded image"
      ],
      "metadata": {
        "id": "b7fMit-bDSJP"
      }
    },
    {
      "cell_type": "markdown",
      "source": [
        "Let's upload our own data, and try to do a simple predictions over it."
      ],
      "metadata": {
        "id": "OpLxkbpMef7h"
      }
    },
    {
      "cell_type": "code",
      "source": [
        "from google.colab import files\n",
        "\n",
        "# Upload an image file\n",
        "uploaded = files.upload()\n",
        "\n",
        "# Get the uploaded image file name\n",
        "image_file = list(uploaded.keys())[0]\n",
        "print(f\"Uploaded file: {image_file}\")"
      ],
      "metadata": {
        "colab": {
          "base_uri": "https://localhost:8080/",
          "height": 92
        },
        "id": "b4iXpBBYDYPt",
        "outputId": "51e0229e-8f26-46dc-e5f4-c15455844a08"
      },
      "execution_count": 85,
      "outputs": [
        {
          "output_type": "display_data",
          "data": {
            "text/plain": [
              "<IPython.core.display.HTML object>"
            ],
            "text/html": [
              "\n",
              "     <input type=\"file\" id=\"files-c6feb31c-36e2-406d-b7e5-0005fe812d55\" name=\"files[]\" multiple disabled\n",
              "        style=\"border:none\" />\n",
              "     <output id=\"result-c6feb31c-36e2-406d-b7e5-0005fe812d55\">\n",
              "      Upload widget is only available when the cell has been executed in the\n",
              "      current browser session. Please rerun this cell to enable.\n",
              "      </output>\n",
              "      <script>// Copyright 2017 Google LLC\n",
              "//\n",
              "// Licensed under the Apache License, Version 2.0 (the \"License\");\n",
              "// you may not use this file except in compliance with the License.\n",
              "// You may obtain a copy of the License at\n",
              "//\n",
              "//      http://www.apache.org/licenses/LICENSE-2.0\n",
              "//\n",
              "// Unless required by applicable law or agreed to in writing, software\n",
              "// distributed under the License is distributed on an \"AS IS\" BASIS,\n",
              "// WITHOUT WARRANTIES OR CONDITIONS OF ANY KIND, either express or implied.\n",
              "// See the License for the specific language governing permissions and\n",
              "// limitations under the License.\n",
              "\n",
              "/**\n",
              " * @fileoverview Helpers for google.colab Python module.\n",
              " */\n",
              "(function(scope) {\n",
              "function span(text, styleAttributes = {}) {\n",
              "  const element = document.createElement('span');\n",
              "  element.textContent = text;\n",
              "  for (const key of Object.keys(styleAttributes)) {\n",
              "    element.style[key] = styleAttributes[key];\n",
              "  }\n",
              "  return element;\n",
              "}\n",
              "\n",
              "// Max number of bytes which will be uploaded at a time.\n",
              "const MAX_PAYLOAD_SIZE = 100 * 1024;\n",
              "\n",
              "function _uploadFiles(inputId, outputId) {\n",
              "  const steps = uploadFilesStep(inputId, outputId);\n",
              "  const outputElement = document.getElementById(outputId);\n",
              "  // Cache steps on the outputElement to make it available for the next call\n",
              "  // to uploadFilesContinue from Python.\n",
              "  outputElement.steps = steps;\n",
              "\n",
              "  return _uploadFilesContinue(outputId);\n",
              "}\n",
              "\n",
              "// This is roughly an async generator (not supported in the browser yet),\n",
              "// where there are multiple asynchronous steps and the Python side is going\n",
              "// to poll for completion of each step.\n",
              "// This uses a Promise to block the python side on completion of each step,\n",
              "// then passes the result of the previous step as the input to the next step.\n",
              "function _uploadFilesContinue(outputId) {\n",
              "  const outputElement = document.getElementById(outputId);\n",
              "  const steps = outputElement.steps;\n",
              "\n",
              "  const next = steps.next(outputElement.lastPromiseValue);\n",
              "  return Promise.resolve(next.value.promise).then((value) => {\n",
              "    // Cache the last promise value to make it available to the next\n",
              "    // step of the generator.\n",
              "    outputElement.lastPromiseValue = value;\n",
              "    return next.value.response;\n",
              "  });\n",
              "}\n",
              "\n",
              "/**\n",
              " * Generator function which is called between each async step of the upload\n",
              " * process.\n",
              " * @param {string} inputId Element ID of the input file picker element.\n",
              " * @param {string} outputId Element ID of the output display.\n",
              " * @return {!Iterable<!Object>} Iterable of next steps.\n",
              " */\n",
              "function* uploadFilesStep(inputId, outputId) {\n",
              "  const inputElement = document.getElementById(inputId);\n",
              "  inputElement.disabled = false;\n",
              "\n",
              "  const outputElement = document.getElementById(outputId);\n",
              "  outputElement.innerHTML = '';\n",
              "\n",
              "  const pickedPromise = new Promise((resolve) => {\n",
              "    inputElement.addEventListener('change', (e) => {\n",
              "      resolve(e.target.files);\n",
              "    });\n",
              "  });\n",
              "\n",
              "  const cancel = document.createElement('button');\n",
              "  inputElement.parentElement.appendChild(cancel);\n",
              "  cancel.textContent = 'Cancel upload';\n",
              "  const cancelPromise = new Promise((resolve) => {\n",
              "    cancel.onclick = () => {\n",
              "      resolve(null);\n",
              "    };\n",
              "  });\n",
              "\n",
              "  // Wait for the user to pick the files.\n",
              "  const files = yield {\n",
              "    promise: Promise.race([pickedPromise, cancelPromise]),\n",
              "    response: {\n",
              "      action: 'starting',\n",
              "    }\n",
              "  };\n",
              "\n",
              "  cancel.remove();\n",
              "\n",
              "  // Disable the input element since further picks are not allowed.\n",
              "  inputElement.disabled = true;\n",
              "\n",
              "  if (!files) {\n",
              "    return {\n",
              "      response: {\n",
              "        action: 'complete',\n",
              "      }\n",
              "    };\n",
              "  }\n",
              "\n",
              "  for (const file of files) {\n",
              "    const li = document.createElement('li');\n",
              "    li.append(span(file.name, {fontWeight: 'bold'}));\n",
              "    li.append(span(\n",
              "        `(${file.type || 'n/a'}) - ${file.size} bytes, ` +\n",
              "        `last modified: ${\n",
              "            file.lastModifiedDate ? file.lastModifiedDate.toLocaleDateString() :\n",
              "                                    'n/a'} - `));\n",
              "    const percent = span('0% done');\n",
              "    li.appendChild(percent);\n",
              "\n",
              "    outputElement.appendChild(li);\n",
              "\n",
              "    const fileDataPromise = new Promise((resolve) => {\n",
              "      const reader = new FileReader();\n",
              "      reader.onload = (e) => {\n",
              "        resolve(e.target.result);\n",
              "      };\n",
              "      reader.readAsArrayBuffer(file);\n",
              "    });\n",
              "    // Wait for the data to be ready.\n",
              "    let fileData = yield {\n",
              "      promise: fileDataPromise,\n",
              "      response: {\n",
              "        action: 'continue',\n",
              "      }\n",
              "    };\n",
              "\n",
              "    // Use a chunked sending to avoid message size limits. See b/62115660.\n",
              "    let position = 0;\n",
              "    do {\n",
              "      const length = Math.min(fileData.byteLength - position, MAX_PAYLOAD_SIZE);\n",
              "      const chunk = new Uint8Array(fileData, position, length);\n",
              "      position += length;\n",
              "\n",
              "      const base64 = btoa(String.fromCharCode.apply(null, chunk));\n",
              "      yield {\n",
              "        response: {\n",
              "          action: 'append',\n",
              "          file: file.name,\n",
              "          data: base64,\n",
              "        },\n",
              "      };\n",
              "\n",
              "      let percentDone = fileData.byteLength === 0 ?\n",
              "          100 :\n",
              "          Math.round((position / fileData.byteLength) * 100);\n",
              "      percent.textContent = `${percentDone}% done`;\n",
              "\n",
              "    } while (position < fileData.byteLength);\n",
              "  }\n",
              "\n",
              "  // All done.\n",
              "  yield {\n",
              "    response: {\n",
              "      action: 'complete',\n",
              "    }\n",
              "  };\n",
              "}\n",
              "\n",
              "scope.google = scope.google || {};\n",
              "scope.google.colab = scope.google.colab || {};\n",
              "scope.google.colab._files = {\n",
              "  _uploadFiles,\n",
              "  _uploadFilesContinue,\n",
              "};\n",
              "})(self);\n",
              "</script> "
            ]
          },
          "metadata": {}
        },
        {
          "output_type": "stream",
          "name": "stdout",
          "text": [
            "Saving 1.png to 1.png\n",
            "Uploaded file: 1.png\n"
          ]
        }
      ]
    },
    {
      "cell_type": "code",
      "source": [
        "from PIL import Image\n",
        "# Open the image and convert it to RGB (ensure it has 3 channels)\n",
        "img = Image.open(image_file).convert(\"RGB\")\n",
        "# Visualize the image\n",
        "plt.imshow(img)\n",
        "plt.axis(\"off\")\n",
        "plt.show()\n"
      ],
      "metadata": {
        "colab": {
          "base_uri": "https://localhost:8080/",
          "height": 272
        },
        "id": "HaXH5ppcDvJh",
        "outputId": "8875b476-16e1-40d3-fc24-e6ad547474d9"
      },
      "execution_count": 86,
      "outputs": [
        {
          "output_type": "display_data",
          "data": {
            "text/plain": [
              "<Figure size 640x480 with 1 Axes>"
            ],
            "image/png": "[encoded data removed]"
          },
          "metadata": {}
        }
      ]
    },
    {
      "cell_type": "code",
      "source": [
        "transform = transforms.Compose([\n",
        "    transforms.Resize((32, 32)),   # Resize to SVHN dataset image size\n",
        "    transforms.ToTensor(),        # Convert to PyTorch tensor\n",
        "])\n",
        "\n",
        "# Apply transformations\n",
        "img_tensor = transform(img).unsqueeze(0).to(device)  # Add batch dimension\n",
        "print(f\"Image tensor shape: {img_tensor.shape}\")"
      ],
      "metadata": {
        "colab": {
          "base_uri": "https://localhost:8080/"
        },
        "id": "nX95hYx-D3U3",
        "outputId": "c70e7bff-344d-4344-f142-b4dad6eb94b1"
      },
      "execution_count": 87,
      "outputs": [
        {
          "output_type": "stream",
          "name": "stdout",
          "text": [
            "Image tensor shape: torch.Size([1, 3, 32, 32])\n"
          ]
        }
      ]
    },
    {
      "cell_type": "code",
      "source": [
        "# Make predictions\n",
        "model_resnet18_svh_hugging_face.eval()\n",
        "with torch.no_grad():\n",
        "    output = model_resnet18_svh_hugging_face(img_tensor)\n",
        "    predicted_class = torch.argmax(output, dim=1).item()\n",
        "\n",
        "plt.title(f'Predicted class: {predicted_class}')\n",
        "plt.imshow(img)\n",
        "plt.axis(\"off\")\n",
        "plt.show()"
      ],
      "metadata": {
        "colab": {
          "base_uri": "https://localhost:8080/",
          "height": 294
        },
        "id": "Zo6f4cYlENb7",
        "outputId": "5ce33f95-de84-4d0b-c06c-2f179768e190"
      },
      "execution_count": 103,
      "outputs": [
        {
          "output_type": "display_data",
          "data": {
            "text/plain": [
              "<Figure size 640x480 with 1 Axes>"
            ],
            "image/png": "[encoded data removed]"
          },
          "metadata": {}
        }
      ]
    },
    {
      "cell_type": "markdown",
      "source": [
        "As we can see, the class has been correctly predicted, which indicates that our model has successfully made the right classification. This demonstrates that the model is functioning as expected for this particular task.\n",
        "\n",
        "In this project, we have walked through the basic flow of a classification problem using PyTorch, from start to finish. We began by importing and preparing the dataset, followed by setting up the model architecture. We then proceeded with the training process, evaluating the model's performance, and fine-tuning as needed. After that, we saved the trained model, which can now be used for making predictions on new, unseen data.\n",
        "\n",
        "By following this workflow, we have not only solved a classification problem but also gained an understanding of the essential components involved in a typical machine learning pipeline with PyTorch. This includes data handling, model creation, training, evaluation, and making predictions, all of which are foundational skills for working with deep learning models."
      ],
      "metadata": {
        "id": "qL02Wl5-elv0"
      }
    }
  ]
}